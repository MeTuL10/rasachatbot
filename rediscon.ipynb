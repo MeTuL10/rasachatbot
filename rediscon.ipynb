{
 "cells": [
  {
   "cell_type": "code",
   "execution_count": 1,
   "metadata": {},
   "outputs": [],
   "source": [
    "import redis\n",
    "import json"
   ]
  },
  {
   "cell_type": "code",
   "execution_count": 2,
   "metadata": {},
   "outputs": [
    {
     "name": "stdout",
     "output_type": "stream",
     "text": [
      "[b'tracker:49c872c0e39c4efca64d78faf40f0475', b'tracker:a8dcbf90b47f4767a554e41f8e5483d7', b'tracker:8d72b69da1f34ee8b0707dd0b1a87573', b'tracker:446832a509784fbc9ff67dd2547384c3', b'tracker:b1c3a26a4f17431f8579fa0156738456']\n"
     ]
    }
   ],
   "source": [
    "r = redis.Redis(host='redis-12442.c90.us-east-1-3.ec2.cloud.redislabs.com',port=12442,password='RHFgwK2pQ2ibFUqw8zrQBHRzK29lQtDw')\n",
    "keys=r.keys('*') #getting the keys of each convesation\n",
    "print(keys)"
   ]
  },
  {
   "cell_type": "code",
   "execution_count": 3,
   "metadata": {},
   "outputs": [],
   "source": [
    "trackerdata=[]\n",
    "for i in keys: \n",
    "    temp=r[i]\n",
    "    temp = temp.decode(\"utf-8\")\n",
    "    trackerdata.append(json.loads(temp)) #each conversation is saved with its events as a list and trackername\n",
    "conversations=[]\n",
    "for i in trackerdata:\n",
    "    conversations.append(i[\"events\"]) #extracting only the events list of each conversation"
   ]
  },
  {
   "cell_type": "code",
   "execution_count": 5,
   "metadata": {},
   "outputs": [
    {
     "name": "stdout",
     "output_type": "stream",
     "text": [
      "{'event': 'action', 'timestamp': 1686898029.3402743, 'metadata': {'model_id': 'dfaedd0a318e48e79c6d8c73abba0fe0', 'assistant_id': '20230421-154826-finite-valuation'}, 'name': 'action_session_start', 'policy': None, 'confidence': 1.0, 'action_text': None, 'hide_rule_turn': False}\n",
      "{'event': 'session_started', 'timestamp': 1686898029.3422678, 'metadata': {'model_id': 'dfaedd0a318e48e79c6d8c73abba0fe0', 'assistant_id': '20230421-154826-finite-valuation'}}\n",
      "{'event': 'action', 'timestamp': 1686898029.3422678, 'metadata': {'model_id': 'dfaedd0a318e48e79c6d8c73abba0fe0', 'assistant_id': '20230421-154826-finite-valuation'}, 'name': 'action_listen', 'policy': None, 'confidence': None, 'action_text': None, 'hide_rule_turn': False}\n",
      "{'event': 'user', 'timestamp': 1686898030.242938, 'metadata': {'model_id': 'dfaedd0a318e48e79c6d8c73abba0fe0', 'assistant_id': '20230421-154826-finite-valuation'}, 'text': 'hi', 'parse_data': {'intent': {'name': 'greet', 'confidence': 0.9994363188743591}, 'entities': [], 'text': 'hi', 'message_id': 'dc6b6ae21a514eb09273dab3dc0857ff', 'metadata': {}, 'text_tokens': [[0, 2]], 'intent_ranking': [{'name': 'greet', 'confidence': 0.9994363188743591}, {'name': 'others_info', 'confidence': 0.0001182184205390513}, {'name': 'user_query', 'confidence': 0.00011328153050271794}, {'name': 'location_info', 'confidence': 9.648440027376637e-05}, {'name': 'others', 'confidence': 7.478873885702342e-05}, {'name': 'exit_info', 'confidence': 6.548658711835742e-05}, {'name': 'price_details', 'confidence': 3.663172174128704e-05}, {'name': 'get_specific_price', 'confidence': 1.681544199527707e-05}, {'name': 'continue_info', 'confidence': 1.2671215699811e-05}, {'name': 'goodbye', 'confidence': 1.1552489013411105e-05}], 'response_selector': {'all_retrieval_intents': [], 'default': {'response': {'responses': None, 'confidence': 0.0, 'intent_response_key': None, 'utter_action': 'utter_None'}, 'ranking': []}}}, 'input_channel': 'cmdline', 'message_id': 'dc6b6ae21a514eb09273dab3dc0857ff'}\n",
      "{'event': 'slot', 'timestamp': 1686898030.2719965, 'metadata': {'model_id': 'dfaedd0a318e48e79c6d8c73abba0fe0', 'assistant_id': '20230421-154826-finite-valuation'}, 'name': 'item', 'value': 'hi'}\n",
      "{'event': 'slot', 'timestamp': 1686898030.2719965, 'metadata': {'model_id': 'dfaedd0a318e48e79c6d8c73abba0fe0', 'assistant_id': '20230421-154826-finite-valuation'}, 'name': 'item_s', 'value': 'hi'}\n",
      "{'event': 'slot', 'timestamp': 1686898030.2719965, 'metadata': {'model_id': 'dfaedd0a318e48e79c6d8c73abba0fe0', 'assistant_id': '20230421-154826-finite-valuation'}, 'name': 'loc', 'value': 'hi'}\n",
      "{'event': 'user_featurization', 'timestamp': 1686898030.9932625, 'metadata': {'model_id': 'dfaedd0a318e48e79c6d8c73abba0fe0', 'assistant_id': '20230421-154826-finite-valuation'}, 'use_text_for_featurization': False}\n",
      "{'event': 'action', 'timestamp': 1686898030.9932625, 'metadata': {'model_id': 'dfaedd0a318e48e79c6d8c73abba0fe0', 'assistant_id': '20230421-154826-finite-valuation'}, 'name': 'utter_greet', 'policy': 'TEDPolicy', 'confidence': 0.9409382939338684, 'action_text': None, 'hide_rule_turn': False}\n",
      "{'event': 'bot', 'timestamp': 1686898030.9952576, 'metadata': {'utter_action': 'utter_greet', 'model_id': 'dfaedd0a318e48e79c6d8c73abba0fe0', 'assistant_id': '20230421-154826-finite-valuation'}, 'text': 'Hey! How are you?', 'data': {'elements': None, 'quick_replies': None, 'buttons': None, 'attachment': None, 'image': None, 'custom': None}}\n",
      "{'event': 'action', 'timestamp': 1686898031.040083, 'metadata': {'model_id': 'dfaedd0a318e48e79c6d8c73abba0fe0', 'assistant_id': '20230421-154826-finite-valuation'}, 'name': 'action_listen', 'policy': 'TEDPolicy', 'confidence': 0.9994547963142395, 'action_text': None, 'hide_rule_turn': False}\n",
      "{'event': 'user', 'timestamp': 1686898036.256791, 'metadata': {'model_id': 'dfaedd0a318e48e79c6d8c73abba0fe0', 'assistant_id': '20230421-154826-finite-valuation'}, 'text': 'item info', 'parse_data': {'intent': {'name': 'user_query', 'confidence': 0.9911331534385681}, 'entities': [], 'text': 'item info', 'message_id': 'ff3b6a1e77de4c01921dcdb4cab3a3a0', 'metadata': {}, 'text_tokens': [[0, 4], [5, 9]], 'intent_ranking': [{'name': 'user_query', 'confidence': 0.9911331534385681}, {'name': 'bot_challenge', 'confidence': 0.002323504537343979}, {'name': 'item_info', 'confidence': 0.001847406500019133}, {'name': 'get_specific_price', 'confidence': 0.0015981553588062525}, {'name': 'get_item_all_locs', 'confidence': 0.0012876796536147594}, {'name': 'greet', 'confidence': 0.0007816121797077358}, {'name': 'price_details', 'confidence': 0.0005595521652139723}, {'name': 'exit_info', 'confidence': 0.00015773699851706624}, {'name': 'goodbye', 'confidence': 9.639152995077893e-05}, {'name': 'location_info', 'confidence': 9.177241008728743e-05}], 'response_selector': {'all_retrieval_intents': [], 'default': {'response': {'responses': None, 'confidence': 0.0, 'intent_response_key': None, 'utter_action': 'utter_None'}, 'ranking': []}}}, 'input_channel': 'cmdline', 'message_id': 'ff3b6a1e77de4c01921dcdb4cab3a3a0'}\n",
      "{'event': 'slot', 'timestamp': 1686898036.2588131, 'metadata': {'model_id': 'dfaedd0a318e48e79c6d8c73abba0fe0', 'assistant_id': '20230421-154826-finite-valuation'}, 'name': 'item', 'value': 'item info'}\n",
      "{'event': 'slot', 'timestamp': 1686898036.2588131, 'metadata': {'model_id': 'dfaedd0a318e48e79c6d8c73abba0fe0', 'assistant_id': '20230421-154826-finite-valuation'}, 'name': 'item_s', 'value': 'item info'}\n",
      "{'event': 'slot', 'timestamp': 1686898036.2588131, 'metadata': {'model_id': 'dfaedd0a318e48e79c6d8c73abba0fe0', 'assistant_id': '20230421-154826-finite-valuation'}, 'name': 'loc', 'value': 'item info'}\n",
      "{'event': 'user_featurization', 'timestamp': 1686898036.3188164, 'metadata': {'model_id': 'dfaedd0a318e48e79c6d8c73abba0fe0', 'assistant_id': '20230421-154826-finite-valuation'}, 'use_text_for_featurization': False}\n",
      "{'event': 'action', 'timestamp': 1686898036.3188164, 'metadata': {'model_id': 'dfaedd0a318e48e79c6d8c73abba0fe0', 'assistant_id': '20230421-154826-finite-valuation'}, 'name': 'utter_item_details', 'policy': 'TEDPolicy', 'confidence': 0.9219919443130493, 'action_text': None, 'hide_rule_turn': False}\n",
      "{'event': 'bot', 'timestamp': 1686898036.3208117, 'metadata': {'utter_action': 'utter_item_details', 'model_id': 'dfaedd0a318e48e79c6d8c73abba0fe0', 'assistant_id': '20230421-154826-finite-valuation'}, 'text': 'which of the details of the below you want :', 'data': {'elements': None, 'quick_replies': None, 'buttons': [{'title': 'price details', 'payload': '/price_details'}, {'title': 'supplier details', 'payload': '/supplier_details'}, {'title': 'inventory details', 'payload': '/inventory_details'}, {'title': 'order details', 'payload': '/order_details_prev_item'}], 'attachment': None, 'image': None, 'custom': None}}\n",
      "{'event': 'action', 'timestamp': 1686898036.484374, 'metadata': {'model_id': 'dfaedd0a318e48e79c6d8c73abba0fe0', 'assistant_id': '20230421-154826-finite-valuation'}, 'name': 'action_listen', 'policy': 'TEDPolicy', 'confidence': 0.9997046589851379, 'action_text': None, 'hide_rule_turn': False}\n",
      "{'event': 'user', 'timestamp': 1686898049.0125523, 'metadata': {'model_id': 'dfaedd0a318e48e79c6d8c73abba0fe0', 'assistant_id': '20230421-154826-finite-valuation'}, 'text': '/price_details', 'parse_data': {'intent': {'name': 'price_details', 'confidence': 1.0}, 'entities': [], 'text': '/price_details', 'message_id': 'f4ca5ba0767b4050a3347a6a2416afcf', 'metadata': {}, 'intent_ranking': [{'name': 'price_details', 'confidence': 1.0}]}, 'input_channel': 'cmdline', 'message_id': 'f4ca5ba0767b4050a3347a6a2416afcf'}\n",
      "{'event': 'slot', 'timestamp': 1686898049.0175397, 'metadata': {'model_id': 'dfaedd0a318e48e79c6d8c73abba0fe0', 'assistant_id': '20230421-154826-finite-valuation'}, 'name': 'item', 'value': '/price_details'}\n",
      "{'event': 'slot', 'timestamp': 1686898049.0175397, 'metadata': {'model_id': 'dfaedd0a318e48e79c6d8c73abba0fe0', 'assistant_id': '20230421-154826-finite-valuation'}, 'name': 'item_s', 'value': '/price_details'}\n",
      "{'event': 'slot', 'timestamp': 1686898049.0175397, 'metadata': {'model_id': 'dfaedd0a318e48e79c6d8c73abba0fe0', 'assistant_id': '20230421-154826-finite-valuation'}, 'name': 'loc', 'value': '/price_details'}\n",
      "{'event': 'user_featurization', 'timestamp': 1686898049.0772564, 'metadata': {'model_id': 'dfaedd0a318e48e79c6d8c73abba0fe0', 'assistant_id': '20230421-154826-finite-valuation'}, 'use_text_for_featurization': False}\n",
      "{'event': 'action', 'timestamp': 1686898049.0772564, 'metadata': {'model_id': 'dfaedd0a318e48e79c6d8c73abba0fe0', 'assistant_id': '20230421-154826-finite-valuation'}, 'name': 'utter_use_cases', 'policy': 'RulePolicy', 'confidence': 1.0, 'action_text': None, 'hide_rule_turn': False}\n",
      "{'event': 'bot', 'timestamp': 1686898049.0812466, 'metadata': {'utter_action': 'utter_use_cases', 'model_id': 'dfaedd0a318e48e79c6d8c73abba0fe0', 'assistant_id': '20230421-154826-finite-valuation'}, 'text': 'Select Get item prices, to retrieve prices for all items at all locations.\\n\\nSelect Get specific price of item/loc, to retrieve the price of a specific item at a specific location.\\n\\nSelect Get price of item at all locs, to retrieve prices for a specific item at all available locations.\\n\\nPlease select a use case:', 'data': {'elements': None, 'quick_replies': None, 'buttons': [{'title': 'Get Item Prices', 'payload': '/get_item_prices'}, {'title': 'Get Specific Price', 'payload': '/get_specific_price'}, {'title': 'Get Price at All Locs', 'payload': '/get_item_all_locs'}], 'attachment': None, 'image': None, 'custom': None}}\n",
      "{'event': 'action', 'timestamp': 1686898049.122153, 'metadata': {'model_id': 'dfaedd0a318e48e79c6d8c73abba0fe0', 'assistant_id': '20230421-154826-finite-valuation'}, 'name': 'action_listen', 'policy': 'RulePolicy', 'confidence': 1.0, 'action_text': None, 'hide_rule_turn': False}\n",
      "{'event': 'user', 'timestamp': 1686898062.5491412, 'metadata': {'model_id': 'dfaedd0a318e48e79c6d8c73abba0fe0', 'assistant_id': '20230421-154826-finite-valuation'}, 'text': '/get_item_all_locs', 'parse_data': {'intent': {'name': 'get_item_all_locs', 'confidence': 1.0}, 'entities': [], 'text': '/get_item_all_locs', 'message_id': '1baee2509a1446c6abb5419c85245f49', 'metadata': {}, 'intent_ranking': [{'name': 'get_item_all_locs', 'confidence': 1.0}]}, 'input_channel': 'cmdline', 'message_id': '1baee2509a1446c6abb5419c85245f49'}\n",
      "{'event': 'slot', 'timestamp': 1686898062.5511365, 'metadata': {'model_id': 'dfaedd0a318e48e79c6d8c73abba0fe0', 'assistant_id': '20230421-154826-finite-valuation'}, 'name': 'item', 'value': '/get_item_all_locs'}\n",
      "{'event': 'slot', 'timestamp': 1686898062.5511365, 'metadata': {'model_id': 'dfaedd0a318e48e79c6d8c73abba0fe0', 'assistant_id': '20230421-154826-finite-valuation'}, 'name': 'item_s', 'value': '/get_item_all_locs'}\n",
      "{'event': 'slot', 'timestamp': 1686898062.5511365, 'metadata': {'model_id': 'dfaedd0a318e48e79c6d8c73abba0fe0', 'assistant_id': '20230421-154826-finite-valuation'}, 'name': 'loc', 'value': '/get_item_all_locs'}\n",
      "{'event': 'user_featurization', 'timestamp': 1686898062.609978, 'metadata': {'model_id': 'dfaedd0a318e48e79c6d8c73abba0fe0', 'assistant_id': '20230421-154826-finite-valuation'}, 'use_text_for_featurization': False}\n",
      "{'event': 'action', 'timestamp': 1686898062.609978, 'metadata': {'model_id': 'dfaedd0a318e48e79c6d8c73abba0fe0', 'assistant_id': '20230421-154826-finite-valuation'}, 'name': 'utter_item_number_for_price', 'policy': 'RulePolicy', 'confidence': 1.0, 'action_text': None, 'hide_rule_turn': False}\n",
      "{'event': 'bot', 'timestamp': 1686898062.6119723, 'metadata': {'utter_action': 'utter_item_number_for_price', 'model_id': 'dfaedd0a318e48e79c6d8c73abba0fe0', 'assistant_id': '20230421-154826-finite-valuation'}, 'text': 'enter item number please', 'data': {'elements': None, 'quick_replies': None, 'buttons': None, 'attachment': None, 'image': None, 'custom': None}}\n",
      "{'event': 'action', 'timestamp': 1686898062.660842, 'metadata': {'model_id': 'dfaedd0a318e48e79c6d8c73abba0fe0', 'assistant_id': '20230421-154826-finite-valuation'}, 'name': 'action_listen', 'policy': 'RulePolicy', 'confidence': 1.0, 'action_text': None, 'hide_rule_turn': False}\n",
      "{'event': 'user', 'timestamp': 1686898084.1708608, 'metadata': {'model_id': 'dfaedd0a318e48e79c6d8c73abba0fe0', 'assistant_id': '20230421-154826-finite-valuation'}, 'text': '100150000', 'parse_data': {'intent': {'name': 'location_info', 'confidence': 0.9915347695350647}, 'entities': [{'entity': 'loc', 'start': 0, 'end': 9, 'confidence_entity': 0.9979606866836548, 'value': '100150000', 'extractor': 'DIETClassifier'}], 'text': '100150000', 'message_id': 'b6cc3ae5f1e44300b5cba5019c115159', 'metadata': {}, 'text_tokens': [[0, 9]], 'intent_ranking': [{'name': 'location_info', 'confidence': 0.9915347695350647}, {'name': 'item_info', 'confidence': 0.0020977072417736053}, {'name': 'get_item_all_locs', 'confidence': 0.0016734781675040722}, {'name': 'hello', 'confidence': 0.001373703358694911}, {'name': 'greet', 'confidence': 0.0011304146610200405}, {'name': 'price_details', 'confidence': 0.000840085675008595}, {'name': 'others_info', 'confidence': 0.0004032537981402129}, {'name': 'others', 'confidence': 0.0003378351393621415}, {'name': 'exit_info', 'confidence': 0.00017816724721342325}, {'name': 'bot_challenge', 'confidence': 0.00014259429008234292}], 'response_selector': {'all_retrieval_intents': [], 'default': {'response': {'responses': None, 'confidence': 0.0, 'intent_response_key': None, 'utter_action': 'utter_None'}, 'ranking': []}}}, 'input_channel': 'cmdline', 'message_id': 'b6cc3ae5f1e44300b5cba5019c115159'}\n",
      "{'event': 'slot', 'timestamp': 1686898084.1738524, 'metadata': {'model_id': 'dfaedd0a318e48e79c6d8c73abba0fe0', 'assistant_id': '20230421-154826-finite-valuation'}, 'name': 'item', 'value': '100150000'}\n",
      "{'event': 'slot', 'timestamp': 1686898084.1738524, 'metadata': {'model_id': 'dfaedd0a318e48e79c6d8c73abba0fe0', 'assistant_id': '20230421-154826-finite-valuation'}, 'name': 'item_s', 'value': '100150000'}\n",
      "{'event': 'slot', 'timestamp': 1686898084.1738524, 'metadata': {'model_id': 'dfaedd0a318e48e79c6d8c73abba0fe0', 'assistant_id': '20230421-154826-finite-valuation'}, 'name': 'loc', 'value': '100150000'}\n",
      "{'event': 'user_featurization', 'timestamp': 1686898084.2386794, 'metadata': {'model_id': 'dfaedd0a318e48e79c6d8c73abba0fe0', 'assistant_id': '20230421-154826-finite-valuation'}, 'use_text_for_featurization': False}\n",
      "{'event': 'action', 'timestamp': 1686898084.2386794, 'metadata': {'query_intent': {'name': 'location_info', 'score': -1.0733319520950317, 'threshold': -0.24528071284294128, 'severity': 0.8280512094497681}, 'ranking': [{'name': 'greet', 'score': -0.06861791014671326, 'threshold': 0.11917051672935486, 'severity': 0.18778842687606812}, {'name': 'nlu_fallback', 'score': -0.1392715573310852, 'threshold': 0.06163017451763153, 'severity': 0.20090173184871674}, {'name': 'price_details', 'score': -0.14871014654636383, 'threshold': 0.3539322018623352, 'severity': 0.5026423335075378}, {'name': 'others', 'score': -0.16633225977420807, 'threshold': 0.5768148899078369, 'severity': 0.7431471347808838}, {'name': 'item_info', 'score': -0.21061304211616516, 'threshold': -0.4212745130062103, 'severity': -0.21066147089004517}, {'name': 'hello', 'score': -0.3493512272834778, 'threshold': -0.05499769747257233, 'severity': 0.29435354471206665}, {'name': 'fallback', 'score': -0.822072446346283, 'threshold': None, 'severity': None}, {'name': 'location_info', 'score': -1.0733319520950317, 'threshold': -0.24528071284294128, 'severity': 0.8280512094497681}, {'name': 'get_item_prices', 'score': -1.2584525346755981, 'threshold': -0.3588544726371765, 'severity': 0.8995980620384216}, {'name': 'get_specific_price', 'score': -1.2786684036254883, 'threshold': -0.39063093066215515, 'severity': 0.8880374431610107}], 'model_id': 'dfaedd0a318e48e79c6d8c73abba0fe0', 'assistant_id': '20230421-154826-finite-valuation'}, 'name': 'action_unlikely_intent', 'policy': 'UnexpecTEDIntentPolicy', 'confidence': 1.0, 'action_text': None, 'hide_rule_turn': False}\n",
      "{'event': 'action', 'timestamp': 1686898089.455176, 'metadata': {'model_id': 'dfaedd0a318e48e79c6d8c73abba0fe0', 'assistant_id': '20230421-154826-finite-valuation'}, 'name': 'action_getPrice_at_specific_Location', 'policy': 'TEDPolicy', 'confidence': 0.426904559135437, 'action_text': None, 'hide_rule_turn': False}\n",
      "{'event': 'action', 'timestamp': 1686898089.5033083, 'metadata': {'model_id': 'dfaedd0a318e48e79c6d8c73abba0fe0', 'assistant_id': '20230421-154826-finite-valuation'}, 'name': 'action_listen', 'policy': 'TEDPolicy', 'confidence': 0.9986796975135803, 'action_text': None, 'hide_rule_turn': False}\n"
     ]
    }
   ],
   "source": [
    "for i in conversations[0]:\n",
    "    print(i)"
   ]
  },
  {
   "cell_type": "code",
   "execution_count": 4,
   "metadata": {},
   "outputs": [
    {
     "name": "stdout",
     "output_type": "stream",
     "text": [
      "user:  hi\n",
      "bot:  Hey! How are you?\n",
      "user:  item info\n",
      "bot:  which of the details of the below you want :\n",
      "user:  /price_details\n",
      "bot:  Select Get item prices, to retrieve prices for all items at all locations.\n",
      "\n",
      "Select Get specific price of item/loc, to retrieve the price of a specific item at a specific location.\n",
      "\n",
      "Select Get price of item at all locs, to retrieve prices for a specific item at all available locations.\n",
      "\n",
      "Please select a use case:\n",
      "user:  /get_item_all_locs\n",
      "bot:  enter item number please\n",
      "user:  100150000\n",
      "data entered:  loc = 100150000\n",
      "\n",
      "\n",
      "user:  item info\n",
      "bot:  which of the details of the below you want :\n",
      "user:  /price_details\n",
      "bot:  Select Get item prices, to retrieve prices for all items at all locations.\n",
      "\n",
      "Select Get specific price of item/loc, to retrieve the price of a specific item at a specific location.\n",
      "\n",
      "Select Get price of item at all locs, to retrieve prices for a specific item at all available locations.\n",
      "\n",
      "Please select a use case:\n",
      "user:  /get_specific_price\n",
      "bot:  please give item number\n",
      "user:  100035001\n",
      "data entered:  loc = 100035001\n",
      "user:  particular item particular location\n",
      "bot:  please give item number\n",
      "user:  100035001\n",
      "data entered:  loc = 100035001\n",
      "user:  particular item particular location\n",
      "bot:  please give item number\n",
      "user:  100035001\n",
      "data entered:  loc = 100035001\n",
      "user:  particular item particular location\n",
      "bot:  please give item number\n",
      "user:  100035001\n",
      "data entered:  loc = 100035001\n",
      "\n",
      "\n",
      "user:  hey\n",
      "bot:  Hello, what can i do for you\n",
      "user:  am sad\n",
      "bot:  Here is something to cheer you up:\n",
      "bot:  Did that help you?\n",
      "user:  yes\n",
      "bot:  Great, carry on!\n",
      "\n",
      "\n",
      "user:  hi\n",
      "bot:  Hello, what can i do for you\n",
      "user:  im happy\n",
      "bot:  Here is something to cheer you up:\n",
      "bot:  Did that help you?\n",
      "user:  no\n",
      "bot:  Bye\n",
      "user:  sup\n",
      "bot:  Hello, what can i do for you\n",
      "user:  bye\n",
      "bot:  Bye\n",
      "\n",
      "\n",
      "user:  hi\n",
      "bot:  Hey! How are you?\n",
      "user:  price details\n",
      "bot:  \n",
      "Select Get item prices,to retrieve prices for all items at all locations.\n",
      "\n",
      "Select Get specific price of item/loc,to retrieve the price of a specific item at a specific location.\n",
      "\n",
      "Select Get price of item at all locs,to retrieve prices for a specific item at all available locations.\n",
      "\n",
      "Please select a use case\n",
      "user:  /get_specific_price\n",
      "bot:  enter item number\n",
      "user:  100150000\n",
      "data entered:  item = 100150000\n",
      "bot:  enter location number\n",
      "user:  location 105\n",
      "data entered:  loc = 105\n",
      "bot:  None\n",
      "user:  price details\n",
      "bot:  \n",
      "Select Get item prices,to retrieve prices for all items at all locations.\n",
      "\n",
      "Select Get specific price of item/loc,to retrieve the price of a specific item at a specific location.\n",
      "\n",
      "Select Get price of item at all locs,to retrieve prices for a specific item at all available locations.\n",
      "\n",
      "Please select a use case\n",
      "user:  /get_specific_price\n",
      "bot:  enter item number\n",
      "user:  100150000\n",
      "data entered:  item = 100150000\n",
      "bot:  enter location number\n",
      "user:  105\n",
      "data entered:  item = 105\n",
      "bot:  enter location number\n",
      "user:  location 105\n",
      "data entered:  loc = 105\n",
      "bot:  None\n",
      "user:  price details\n",
      "bot:  \n",
      "Select Get item prices,to retrieve prices for all items at all locations.\n",
      "\n",
      "Select Get specific price of item/loc,to retrieve the price of a specific item at a specific location.\n",
      "\n",
      "Select Get price of item at all locs,to retrieve prices for a specific item at all available locations.\n",
      "\n",
      "Please select a use case\n",
      "user:  /get_specific_price\n",
      "bot:  enter item number\n",
      "user:  100150000\n",
      "data entered:  item = 100150000\n",
      "bot:  enter location number\n",
      "user:  location 105\n",
      "data entered:  loc = 105\n",
      "bot:  None\n",
      "\n",
      "\n"
     ]
    }
   ],
   "source": [
    "for conv in conversations:\n",
    "    for i in conv:\n",
    "        if i['event']=='user':\n",
    "            print(\"user: \",i['text'])\n",
    "            if len(i['parse_data']['entities'])>0:\n",
    "                print('data entered: ',i['parse_data']['entities'][0]['entity'],\"=\",i['parse_data']['entities'][0]['value'])\n",
    "        elif i['event']==\"bot\":\n",
    "            print(\"bot: \",i[\"text\"])\n",
    "    print(\"\\n\")"
   ]
  },
  {
   "cell_type": "code",
   "execution_count": 10,
   "metadata": {},
   "outputs": [
    {
     "name": "stdout",
     "output_type": "stream",
     "text": [
      "greet : {'hi', 'sup', 'hey'}\n",
      "user_query : {'item info'}\n",
      "price_details : {'price details', '/price_details'}\n",
      "get_item_all_locs : {'/get_item_all_locs'}\n",
      "location_info : {'100035001', '100150000'}\n",
      "get_specific_price : {'/get_specific_price', 'particular item particular location'}\n",
      "mood_unhappy : {'im happy', 'am sad'}\n",
      "affirm : {'yes'}\n",
      "deny : {'no'}\n",
      "goodbye : {'bye'}\n",
      "item_details : {'105', '100150000'}\n",
      "location_details : {'location 105'}\n"
     ]
    }
   ],
   "source": [
    "intents=set()\n",
    "intentdict=dict()\n",
    "for conv in conversations:\n",
    "    for i in conv:\n",
    "        if i['event']==\"user\":\n",
    "            if i['parse_data']['intent']['name'] not in intents:\n",
    "                intents.add(i['parse_data']['intent']['name'])\n",
    "                intentdict[i['parse_data']['intent']['name']]={i[\"text\"]}\n",
    "            else:\n",
    "                intentdict[i['parse_data']['intent']['name']].add(i[\"text\"])\n",
    "for k,v in intentdict.items():\n",
    "    print(k,\":\",v)\n",
    "\n",
    "\n"
   ]
  },
  {
   "attachments": {},
   "cell_type": "markdown",
   "metadata": {},
   "source": [
    "https://www.kaggle.com/datasets/salmanfaroz/small-talk-intent-classification-data"
   ]
  },
  {
   "cell_type": "code",
   "execution_count": 10,
   "metadata": {},
   "outputs": [
    {
     "name": "stdout",
     "output_type": "stream",
     "text": [
      "[{'intent': 'greet', 'examples': '- hey\\n- hello\\n- hi\\n- hello there\\n- good morning\\n- good evening\\n- moin\\n- hey there\\n- hey dude\\n- good morning\\n- good evening\\n- good afternoon\\n- sup\\n'}, {'intent': 'goodbye', 'examples': '- cu\\n- good by\\n- cee you later\\n- good night\\n- bye\\n- goodbye\\n- have a nice day\\n- see you around\\n- bye bye\\n- see you later\\n'}, {'intent': 'affirm', 'examples': '- yes\\n- y\\n- indeed\\n- of course\\n- that sounds good\\n- correct\\n'}, {'intent': 'deny', 'examples': \"- no\\n- n\\n- never\\n- I don't think so\\n- don't like that\\n- no way\\n- not really\\n\"}, {'intent': 'mood_great', 'examples': '- perfect\\n- great\\n- amazing\\n- feeling like a king\\n- wonderful\\n- I am happy\\n- I am feeling very good\\n- I am great\\n- I am amazing\\n- I am going to save the world\\n- super stoked\\n- extremely good\\n- so so perfect\\n- so good\\n- so perfect\\n'}, {'intent': 'mood_unhappy', 'examples': \"- my day was horrible\\n- I am sad\\n- I don't feel very well\\n- I am disappointed\\n- super sad\\n- I'm so sad\\n- sad\\n- very sad\\n- unhappy\\n- not good\\n- not very good\\n- extremly sad\\n- so saad\\n- so sad\\n\"}, {'intent': 'bot_challenge', 'examples': '- are you a bot?\\n- are you a human?\\n- am I talking to a bot?\\n- am I talking to a human?\\n'}, {'intent': 'ask_time', 'examples': '- what is the time?\\n- can you tell me the time?\\n- what is the time right now?\\n'}, {'intent': 'addnum', 'examples': '- add the numbers [2](num1) and [4](num2)\\n- addition of [3](num1) and [7](num2)\\n- add [8](num1) and [9](num2)\\n- [3](num1) + [5](num2)\\n'}, {'intent': 'subnum', 'examples': '- subtract the numbers [2](num1) and [4](num2)\\n- subtract [3](num2) from [7](num1)\\n- difference between [8](num1) and [9](num2)\\n- [3](num1) - [5](num2)\\n'}, {'intent': 'mulnum', 'examples': '- multiply the numbers [2](num1) and [4](num2)\\n- product of [3](num1) and [7](num2)\\n- [8](num1) x [9](num2)\\n- [3](num1) * [5](num2)\\n'}, {'intent': 'divnum', 'examples': '- divide the numbers [2](num1) and [4](num2)\\n- divide [3](num1) by [7](num2)\\n- [3](num1) / [5](num2)\\n'}, {'intent': 'thank', 'examples': '- thank you\\n- thanks\\n- i am grateful\\n- thanks for the help\\n'}, {'intent': 'say_age', 'examples': '- [20](age)\\n- my age is [15](age)\\n'}, {'intent': 'say_number', 'examples': '- [9876598765](num)\\n- my mobile number is [9876423423](num)\\n- number is [9999977777](num)\\n'}]\n"
     ]
    }
   ],
   "source": [
    "import yaml\n",
    "\n",
    "with open(r'D:\\documents\\internship\\rasachatbot\\data\\nlu.yml') as file:\n",
    "    # The FullLoader parameter handles the conversion from YAML\n",
    "    # scalar values to Python the dictionary format\n",
    "    nlu = yaml.load(file, Loader=yaml.FullLoader)\n",
    "nlu=nlu[\"nlu\"]\n",
    "print(nlu)"
   ]
  },
  {
   "cell_type": "code",
   "execution_count": 14,
   "metadata": {},
   "outputs": [
    {
     "name": "stdout",
     "output_type": "stream",
     "text": [
      "greet :  ['- hey', 'hello', 'hi', 'hello there', 'good morning', 'good evening', 'moin', 'hey there', 'hey dude', 'good morning', 'good evening', 'good afternoon', 'sup\\n']\n",
      "goodbye :  ['- cu', 'good by', 'cee you later', 'good night', 'bye', 'goodbye', 'have a nice day', 'see you around', 'bye bye', 'see you later\\n']\n",
      "affirm :  ['- yes', 'y', 'indeed', 'of course', 'that sounds good', 'correct\\n']\n",
      "deny :  ['- no', 'n', 'never', \"I don't think so\", \"don't like that\", 'no way', 'not really\\n']\n",
      "mood_great :  ['- perfect', 'great', 'amazing', 'feeling like a king', 'wonderful', 'I am happy', 'I am feeling very good', 'I am great', 'I am amazing', 'I am going to save the world', 'super stoked', 'extremely good', 'so so perfect', 'so good', 'so perfect\\n']\n",
      "mood_unhappy :  ['- my day was horrible', 'I am sad', \"I don't feel very well\", 'I am disappointed', 'super sad', \"I'm so sad\", 'sad', 'very sad', 'unhappy', 'not good', 'not very good', 'extremly sad', 'so saad', 'so sad\\n']\n",
      "bot_challenge :  ['- are you a bot?', 'are you a human?', 'am I talking to a bot?', 'am I talking to a human?\\n']\n",
      "ask_time :  ['- what is the time?', 'can you tell me the time?', 'what is the time right now?\\n']\n",
      "addnum :  ['- add the numbers [2](num1) and [4](num2)', 'addition of [3](num1) and [7](num2)', 'add [8](num1) and [9](num2)', '[3](num1) + [5](num2)\\n']\n",
      "subnum :  ['- subtract the numbers [2](num1) and [4](num2)', 'subtract [3](num2) from [7](num1)', 'difference between [8](num1) and [9](num2)', '[3](num1) - [5](num2)\\n']\n",
      "mulnum :  ['- multiply the numbers [2](num1) and [4](num2)', 'product of [3](num1) and [7](num2)', '[8](num1) x [9](num2)', '[3](num1) * [5](num2)\\n']\n",
      "divnum :  ['- divide the numbers [2](num1) and [4](num2)', 'divide [3](num1) by [7](num2)', '[3](num1) / [5](num2)\\n']\n",
      "thank :  ['- thank you', 'thanks', 'i am grateful', 'thanks for the help\\n']\n",
      "say_age :  ['- [20](age)', 'my age is [15](age)\\n']\n",
      "say_number :  ['- [9876598765](num)', 'my mobile number is [9876423423](num)', 'number is [9999977777](num)\\n']\n"
     ]
    }
   ],
   "source": [
    "intentdict=dict()\n",
    "for i in nlu:\n",
    "    temp=i[\"examples\"].split(\"\\n- \")\n",
    "    #temp[0]=temp[0][2:]\n",
    "    #temp[-1]=temp[-1][-2]\n",
    "    intentdict[i[\"intent\"]]=temp\n",
    "for k,v in intentdict.items():\n",
    "    print(k,\": \",v)\n",
    "#print(intentdict)"
   ]
  },
  {
   "cell_type": "code",
   "execution_count": 18,
   "metadata": {},
   "outputs": [
    {
     "name": "stdout",
     "output_type": "stream",
     "text": [
      "greet :  {'hello there', 'moin', 'good afternoon', 'hello', 'sup', 'hey there', 'hi', 'hey', 'good evening', 'hey dude', 'good morning'}\n",
      "goodbye :  {'cu', 'bye', 'cee you later', 'good by', 'see you around', 'have a nice day', 'see you later', 'good night', 'goodbye', 'bye bye'}\n",
      "affirm :  {'indeed', 'of course', 'correct', 'that sounds good', 'yes', 'y'}\n",
      "deny :  {'never', \"don't like that\", 'not really', 'no way', \"I don't think so\", 'n', 'no'}\n",
      "mood_great :  {'great', 'so good', 'so so perfect', 'I am going to save the world', 'I am feeling very good', 'extremely good', 'super stoked', 'I am happy', 'so perfect', 'I am amazing', 'amazing', 'perfect', 'feeling like a king', 'I am great', 'wonderful'}\n",
      "mood_unhappy :  {'I am sad', 'very sad', 'not good', 'so saad', 'unhappy', 'not very good', 'my day was horrible', 'so sad', 'extremly sad', \"I don't feel very well\", 'sad', \"I'm so sad\", 'I am disappointed', 'super sad'}\n",
      "bot_challenge :  {'am I talking to a human?', 'are you a bot?', 'am I talking to a bot?', 'are you a human?'}\n",
      "ask_time :  {'what is the time right now?', 'can you tell me the time?', 'what is the time?'}\n",
      "addnum :  {'[3](num1) + [5](num2)', 'add [8](num1) and [9](num2)', 'addition of [3](num1) and [7](num2)', 'add the numbers [2](num1) and [4](num2)'}\n",
      "subnum :  {'subtract [3](num2) from [7](num1)', 'difference between [8](num1) and [9](num2)', '[3](num1) - [5](num2)', 'subtract the numbers [2](num1) and [4](num2)'}\n",
      "mulnum :  {'[3](num1) * [5](num2)', 'product of [3](num1) and [7](num2)', '[8](num1) x [9](num2)', 'multiply the numbers [2](num1) and [4](num2)'}\n",
      "divnum :  {'divide the numbers [2](num1) and [4](num2)', '[3](num1) / [5](num2)', 'divide [3](num1) by [7](num2)'}\n",
      "thank :  {'i am grateful', 'thanks', 'thanks for the help', 'thank you'}\n",
      "say_age :  {'[20](age)', 'my age is [15](age)'}\n",
      "say_number :  {'my mobile number is [9876423423](num)', 'number is [9999977777](num)', '[9876598765](num)'}\n"
     ]
    }
   ],
   "source": [
    "intentdict=dict()\n",
    "for i in nlu:\n",
    "    temp=i[\"examples\"].split(\"\\n- \")\n",
    "    temp[0]=temp[0][2:]\n",
    "    temp[-1]=temp[-1][:-1]\n",
    "    intentdict[i[\"intent\"]]=set(temp)\n",
    "for k,v in intentdict.items():\n",
    "    print(k,\": \",v)\n",
    "#print(intentdict)"
   ]
  }
 ],
 "metadata": {
  "kernelspec": {
   "display_name": "base",
   "language": "python",
   "name": "python3"
  },
  "language_info": {
   "codemirror_mode": {
    "name": "ipython",
    "version": 3
   },
   "file_extension": ".py",
   "mimetype": "text/x-python",
   "name": "python",
   "nbconvert_exporter": "python",
   "pygments_lexer": "ipython3",
   "version": "3.9.13"
  },
  "orig_nbformat": 4
 },
 "nbformat": 4,
 "nbformat_minor": 2
}
