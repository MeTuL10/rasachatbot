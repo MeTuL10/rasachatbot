{
 "cells": [
  {
   "cell_type": "code",
   "execution_count": 26,
   "metadata": {},
   "outputs": [],
   "source": [
    "import redis\n",
    "import json\n",
    "from textblob import Word\n",
    "import re\n",
    "import nltk\n",
    "from nltk.corpus import stopwords\n",
    "import contractions\n",
    "import string\n",
    "from collections import Counter\n",
    "from wordcloud import WordCloud, STOPWORDS\n",
    "import matplotlib.pyplot as plt\n",
    "import pandas as pd"
   ]
  },
  {
   "cell_type": "code",
   "execution_count": 2,
   "metadata": {},
   "outputs": [
    {
     "name": "stdout",
     "output_type": "stream",
     "text": [
      "[b'tracker:e047accea70f4b9ea2a7cf70bbcf8214', b'tracker:1b394dd25cba49c289e1f81458a3f260', b'tracker:6a89a09873af4d5797ada863a91ffd81', b'tracker:e0a88050d69a4968be48de22a81ecaae', b'tracker:ce73a1b0f8f643419969b0086a619f12', b'tracker:f23cbe59dc4947c8a8dc66781fa25c4d', b'tracker:1b0b48d7170a422ba6fe14fb1fdf0385', b'tracker:6079c9d0ef304c67bc67215c87e28bce', b'tracker:8452587c6b5140a08bbaa6806b4856e6', b'tracker:8d72b69da1f34ee8b0707dd0b1a87573', b'tracker:31846644fd194e618f4bc15761e61d05', b'tracker:2259f47dc7c3453e8fdf718fa6ede067', b'tracker:ddf5ac4299414609806dd8018dca0226', b'tracker:0daf13becb784a4980b1d67ea3cf1975', b'tracker:19f68aa275514a60be955ebee8819f8d', b'tracker:0e76f32a85d940d4b498eea26014dda0', b'tracker:446832a509784fbc9ff67dd2547384c3', b'tracker:c03d2a6d67164f38b12a6dfd3f30275e', b'tracker:51862fcd04ac4f0491f701efbdf6c9e0', b'tracker:d1a4fb46f7c842aa9dd0ffa0351807eb', b'tracker:bd09487cb6314e52b2bda5892e8fbb3f', b'tracker:ffc9da9f36c04e1fb618a444d8143982', b'tracker:a8dcbf90b47f4767a554e41f8e5483d7', b'tracker:8b957f8b0e1a462d8689b3cbb5a7bf04', b'tracker:9062e7d713794915aa9a84022db1e05f', b'tracker:6e96f4b3bf094375b58e15881c533bb4', b'tracker:508afa435ed0400eaae21c5d8f68d74c', b'tracker:484ffbd8cc0f4d0b9445c9e7f2cff995', b'tracker:b77ebcbc32774834a9920c9dffaeb1be', b'tracker:a01bb641265e42889e46066e8d78cc8e', b'tracker:367bab26c08e42e2bd7a82c61059bc71', b'tracker:43a28470f9734062ab1c287359620383', b'tracker:af7b5b9b36e04eeeaa6a3197f6735591', b'tracker:db4cb2f5bdd645fd9d57f60a1f58882d', b'tracker:cf36fd6b64714fb3b797a6e1a66b3d4c', b'tracker:c303240f2ba14ad9bdba567551ea8158', b'tracker:2b903c501afc41db9320de757936b3b4', b'tracker:3851b8dece584b0597e35741ecb2229f', b'tracker:3ecb302b489f4eb1a90fdf5bda32cc55', b'tracker:67d492d50d9d425f94edd1b815966f8d', b'tracker:b1c3a26a4f17431f8579fa0156738456', b'tracker:9523f1d1624246cba19e075ecaa2b973', b'tracker:49c872c0e39c4efca64d78faf40f0475', b'tracker:0fb5d7a801e041e8b341397628280555', b'tracker:5c7dc26b04a24f7ea01082aab520795a', b'tracker:32fcf465b6304b5598ca2648f4d7298a', b'tracker:90bd575a4c554de2889bbd57355119a3', b'tracker:4afd3f65aebc484594fcedbd4de53dfd', b'tracker:33badddcb3b7422b9bdf30a45a4d65bb', b'tracker:9da7c24522ce4bd8ae0fda235c29820b', b'tracker:189934edd42842d9b28eb167417a5f1a', b'tracker:4627c926635244d6ab707a5863f881a7', b'tracker:2d285a1ea0274c51844cf2d62cc87fc5', b'tracker:b39d33a9ac4f402b9fe31acfb17e11dc', b'tracker:fc5c9514313741c2a8f6894e4e66e405', b'tracker:fe1b187fde2040afb1211c3195010a96', b'tracker:a6b4b897057143ffa56c5c6e11d731d4', b'tracker:3ba31dffd42245deb7b83c6bd6a68990', b'tracker:0a4f9506d7de4227b4ea98dce53008a0', b'tracker:73f381b2ad2a4b74ae7dd365ab004d92', b'tracker:a84421c79fae47348b09a2385c80aadd', b'tracker:ef89910c5c244074918c5db4d8837782', b'tracker:9b197abaf6b04a2e8cd33ef7c149d052', b'tracker:83b4e4101ff44a89b49c957c50c52c87', b'tracker:de75cadbdc4e438ea29343515a2c42e4', b'tracker:7185cf85c53948b891b4b87396ef1f11', b'tracker:f7006dafb14e469a9afecaeaba16142f', b'tracker:7c69a3a1f80648f3967e52f87d7e32d0', b'tracker:5c26cb38fe3c4277a2ef9e75257cd026', b'tracker:13ca6234323149edb40697048b77ad49', b'tracker:e58d1d32938a44faafb0ec3e4beaa99d']\n"
     ]
    }
   ],
   "source": [
    "r = redis.Redis(host='redis-12442.c90.us-east-1-3.ec2.cloud.redislabs.com',port=12442,password='RHFgwK2pQ2ibFUqw8zrQBHRzK29lQtDw')\n",
    "keys=r.keys('*') #getting the keys of each convesation\n",
    "print(keys)"
   ]
  },
  {
   "cell_type": "code",
   "execution_count": 3,
   "metadata": {},
   "outputs": [
    {
     "name": "stdout",
     "output_type": "stream",
     "text": [
      "price_details : {'price details', 'price detaosl', 'price detaisl', '/price_details'}\n",
      "get_item_prices : {'/get_item_prices', 'item ifno'}\n",
      "get_specific_price : {'cost of particular item', '/get_specific_price', 'particular item particular location'}\n",
      "item_details : {'100185305', '105', '100150000', '1000350001', '100035001', '607'}\n",
      "location_details : {'loc is 607', 'location 607', 'location 105', 'loc 607', 'price details for location 607'}\n",
      "get_item_all_locs : {'UPC in RMS', '/get_item_all_locs', 'cost of all items in particular location'}\n",
      "greet : {\"how's the weather\", \"how's the weather like\", 'hey', 'what is atmosphere', 'sup', 'Oracle', 'atmosphere', 'hi'}\n",
      "user_query : {'/item_details', 'item info]', 'item info'}\n",
      "location_info : {'location 246001', '100035001', '100150000'}\n",
      "hello : {'/hello'}\n",
      "nlu_fallback : {'prime minister of india', 'what is climatic change', 'who is vendor', 'UPC in retail', 'president of india', 'rasa', 'list IT companies chennai', 'what is the wetaher like', '/action_get_item_prices', 'what is UPC', '100035001', 'UPC', 'what is the weather condition in trichy', '607', 'loc is 607', '100150000', 'what is RASA', 'prime minister of tamilnadu', 'who is the cheoif minister of tamilnadu', 'cheif minister of tamilnadu'}\n",
      "mood_unhappy : {'am sad', 'im happy'}\n",
      "affirm : {'yes'}\n",
      "continue_info : {'yes', 'RMS'}\n",
      "deny : {'what is vendor', '/stop', 'no', 'vendor'}\n",
      "goodbye : {'UPC', 'upc', 'bye'}\n",
      "others : {'what is the weather', 'hwta is UPC', 'what is python', '/others', 'who is the cheif minister of tamilnadu', 'what is the weather in trichy', 'what is the weather like', 'what is the weather in chennai', 'what is RMS'}\n",
      "exit_info : {'no'}\n",
      "item_info : {'246001', '100185305', '105', '100150000'}\n"
     ]
    }
   ],
   "source": [
    "trackerdata=[]\n",
    "for i in keys: \n",
    "    temp=r[i]\n",
    "    temp = temp.decode(\"utf-8\")\n",
    "    trackerdata.append(json.loads(temp)) #each conversation is saved with its events as a list and trackername\n",
    "conversations=[]\n",
    "for i in trackerdata:\n",
    "    conversations.append(i[\"events\"]) #extracting only the events list of each conversation\n",
    "intents=set()\n",
    "intentdictnew=dict()\n",
    "for conv in conversations:\n",
    "    for i in conv:\n",
    "        if i['event']==\"user\":\n",
    "            if i['parse_data']['intent']['name'] not in intents:\n",
    "                intents.add(i['parse_data']['intent']['name'])\n",
    "                intentdictnew[i['parse_data']['intent']['name']]={i[\"text\"]}\n",
    "            else:\n",
    "                intentdictnew[i['parse_data']['intent']['name']].add(i[\"text\"])\n",
    "for k,v in intentdictnew.items():\n",
    "    print(k,\":\",v)\n"
   ]
  },
  {
   "attachments": {},
   "cell_type": "markdown",
   "metadata": {},
   "source": [
    "DESCRIPTIVE ANALYSIS OF UNRECOGNISED USER INPUTS"
   ]
  },
  {
   "cell_type": "code",
   "execution_count": 40,
   "metadata": {},
   "outputs": [
    {
     "name": "stdout",
     "output_type": "stream",
     "text": [
      "{'prime minister of india', 'what is climatic change', 'who is vendor', 'UPC in retail', 'president of india', 'rasa', 'list IT companies chennai', 'what is the wetaher like', '/action_get_item_prices', 'what is UPC', '100035001', 'UPC', 'what is the weather condition in trichy', '607', 'loc is 607', '100150000', 'what is RASA', 'prime minister of tamilnadu', 'who is the cheoif minister of tamilnadu', 'cheif minister of tamilnadu'}\n",
      "{'what is the weather', 'hwta is UPC', 'what is python', '/others', 'who is the cheif minister of tamilnadu', 'what is the weather in trichy', 'what is the weather like', 'what is the weather in chennai', 'what is RMS'}\n",
      "{'UPC', 'what is the weather condition in trichy', 'prime minister of india', 'what is climatic change', 'what is the weather', 'what is python', '607', 'what is the weather in trichy', 'who is vendor', 'UPC in retail', 'president of india', 'rasa', 'list IT companies chennai', 'what is the wetaher like', '/action_get_item_prices', 'loc is 607', '100150000', 'hwta is UPC', 'what is UPC', '/others', '100035001', 'what is RASA', 'who is the cheif minister of tamilnadu', 'prime minister of tamilnadu', 'what is the weather like', 'who is the cheoif minister of tamilnadu', 'what is the weather in chennai', 'what is RMS', 'cheif minister of tamilnadu'}\n"
     ]
    }
   ],
   "source": [
    "print(intentdictnew[\"nlu_fallback\"])\n",
    "print(intentdictnew[\"others\"])\n",
    "newinputs=intentdictnew[\"nlu_fallback\"] | intentdictnew[\"others\"]\n",
    "print(newinputs)"
   ]
  },
  {
   "attachments": {},
   "cell_type": "markdown",
   "metadata": {},
   "source": [
    "PREPROCESSING THE DATA"
   ]
  },
  {
   "cell_type": "code",
   "execution_count": 42,
   "metadata": {},
   "outputs": [
    {
     "name": "stdout",
     "output_type": "stream",
     "text": [
      "['prime minister of india', 'what is climatic change', 'what is python', 'what is the weather in trichy', 'who is vendor', 'list it companies chennai', 'president of india', 'rasa', 'what is rasa', 'what is the wetaher like', 'what is rms', '100035001', 'what is upc', 'who is the cheif minister of tamilnadu', 'what is the weather like', 'what is the weather in chennai', 'what is the weather condition in trichy', 'what is the weather', '607', 'upc', 'upc in retail', 'loc is 607', '100150000', 'hwta is upc', 'prime minister of tamilnadu', 'who is the cheoif minister of tamilnadu', 'cheif minister of tamilnadu']\n"
     ]
    }
   ],
   "source": [
    "#removing button inputs\n",
    "newinputs2=set()\n",
    "for i in newinputs:\n",
    "    if i[0]!='/':\n",
    "        newinputs2.add(i.lower())\n",
    "newinputs2=list(newinputs2)\n",
    "print(newinputs2)"
   ]
  },
  {
   "cell_type": "code",
   "execution_count": 30,
   "metadata": {},
   "outputs": [],
   "source": [
    "def cleaning_numbers(data):\n",
    "    return re.sub('[0-9]+', '', data)"
   ]
  },
  {
   "cell_type": "code",
   "execution_count": 31,
   "metadata": {},
   "outputs": [],
   "source": [
    "def cleaning_contractions(text):\n",
    "    text=text.split()\n",
    "    corrected=[]\n",
    "    for word in text:\n",
    "        corrected.append(contractions.fix(word))\n",
    "    return \" \".join(corrected)"
   ]
  },
  {
   "cell_type": "code",
   "execution_count": 32,
   "metadata": {},
   "outputs": [],
   "source": [
    "english_punctuations = string.punctuation\n",
    "punctuations_list = english_punctuations\n",
    "def cleaning_punctuations(text):\n",
    "    return re.sub(re.compile(\"[\"+punctuations_list+\"‼️’]\"),\" \",text)"
   ]
  },
  {
   "cell_type": "code",
   "execution_count": 33,
   "metadata": {},
   "outputs": [
    {
     "name": "stderr",
     "output_type": "stream",
     "text": [
      "[nltk_data] Downloading package stopwords to\n",
      "[nltk_data]     C:\\Users\\metul\\AppData\\Roaming\\nltk_data...\n",
      "[nltk_data]   Package stopwords is already up-to-date!\n"
     ]
    }
   ],
   "source": [
    "nltk.download('stopwords')\n",
    "stop_words = set(stopwords.words('english'))\n",
    "def cleaning_stopwords(data):\n",
    "    words = data.split()\n",
    "    filtered_words = [word for word in words if word not in stop_words]\n",
    "    filtered_text = ' '.join(filtered_words)\n",
    "    return filtered_text"
   ]
  },
  {
   "cell_type": "code",
   "execution_count": 34,
   "metadata": {},
   "outputs": [],
   "source": [
    "def correct_word_spelling(sentence):\n",
    "    words=sentence.split()\n",
    "    words2=[]\n",
    "    for word in words:\n",
    "        word = Word(word)\n",
    "        words2.append(word.correct())\n",
    "    return(\" \".join(words2))"
   ]
  },
  {
   "cell_type": "code",
   "execution_count": 43,
   "metadata": {},
   "outputs": [
    {
     "name": "stdout",
     "output_type": "stream",
     "text": [
      "prime minister india\n",
      "climatic change\n",
      "python\n",
      "weather trichy\n",
      "vendor\n",
      "list companies chennai\n",
      "president india\n",
      "rasa\n",
      "rasa\n",
      "wetaher like\n",
      "rms\n",
      "upc\n",
      "cheif minister tamilnadu\n",
      "weather like\n",
      "weather chennai\n",
      "weather condition trichy\n",
      "weather\n",
      "upc\n",
      "upc retail\n",
      "loc\n",
      "hwta upc\n",
      "prime minister tamilnadu\n",
      "cheoif minister tamilnadu\n",
      "cheif minister tamilnadu\n"
     ]
    }
   ],
   "source": [
    "userinputs=[]\n",
    "for i in newinputs2:\n",
    "    i=cleaning_numbers(i)\n",
    "    i=cleaning_contractions(i)\n",
    "    i=cleaning_punctuations(i)\n",
    "    i=cleaning_stopwords(i)\n",
    "    #i=correct_word_spelling(i)\n",
    "    if i!=\"\":\n",
    "        print(i)\n",
    "        userinputs.append(i)"
   ]
  },
  {
   "cell_type": "code",
   "execution_count": 44,
   "metadata": {},
   "outputs": [
    {
     "name": "stdout",
     "output_type": "stream",
     "text": [
      "['prime minister india', 'climatic change', 'python', 'weather trichy', 'vendor', 'list companies chennai', 'president india', 'rasa', 'rasa', 'wetaher like', 'rms', 'upc', 'cheif minister tamilnadu', 'weather like', 'weather chennai', 'weather condition trichy', 'weather', 'upc', 'upc retail', 'loc', 'hwta upc', 'prime minister tamilnadu', 'cheoif minister tamilnadu', 'cheif minister tamilnadu']\n"
     ]
    }
   ],
   "source": [
    "print(userinputs)"
   ]
  },
  {
   "cell_type": "code",
   "execution_count": 45,
   "metadata": {},
   "outputs": [
    {
     "name": "stdout",
     "output_type": "stream",
     "text": [
      "['prime', 'minister', 'india', 'climatic', 'change', 'python', 'weather', 'trichy', 'vendor', 'list', 'companies', 'chennai', 'president', 'india', 'rasa', 'rasa', 'wetaher', 'like', 'rms', 'upc', 'cheif', 'minister', 'tamilnadu', 'weather', 'like', 'weather', 'chennai', 'weather', 'condition', 'trichy', 'weather', 'upc', 'upc', 'retail', 'loc', 'hwta', 'upc', 'prime', 'minister', 'tamilnadu', 'cheoif', 'minister', 'tamilnadu', 'cheif', 'minister', 'tamilnadu']\n",
      "Counter({'minister': 5, 'weather': 5, 'upc': 4, 'tamilnadu': 4, 'prime': 2, 'india': 2, 'trichy': 2, 'chennai': 2, 'rasa': 2, 'like': 2, 'cheif': 2, 'climatic': 1, 'change': 1, 'python': 1, 'vendor': 1, 'list': 1, 'companies': 1, 'president': 1, 'wetaher': 1, 'rms': 1, 'condition': 1, 'retail': 1, 'loc': 1, 'hwta': 1, 'cheoif': 1})\n"
     ]
    }
   ],
   "source": [
    "words=[]\n",
    "for i in userinputs:\n",
    "    words.extend(i.split())\n",
    "print(words)\n",
    "words=Counter(words)\n",
    "print(words)"
   ]
  }
 ],
 "metadata": {
  "kernelspec": {
   "display_name": "base",
   "language": "python",
   "name": "python3"
  },
  "language_info": {
   "codemirror_mode": {
    "name": "ipython",
    "version": 3
   },
   "file_extension": ".py",
   "mimetype": "text/x-python",
   "name": "python",
   "nbconvert_exporter": "python",
   "pygments_lexer": "ipython3",
   "version": "3.9.13"
  },
  "orig_nbformat": 4
 },
 "nbformat": 4,
 "nbformat_minor": 2
}
