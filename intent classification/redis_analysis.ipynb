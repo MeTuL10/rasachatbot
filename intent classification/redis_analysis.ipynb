{
 "cells": [
  {
   "cell_type": "code",
   "execution_count": 257,
   "metadata": {},
   "outputs": [],
   "source": [
    "import redis\n",
    "import json\n",
    "from textblob import Word\n",
    "import re\n",
    "import nltk\n",
    "from nltk.corpus import stopwords\n",
    "import contractions\n",
    "import string\n",
    "from collections import Counter\n",
    "from wordcloud import WordCloud, STOPWORDS\n",
    "import matplotlib.pyplot as plt\n",
    "import pandas as pd\n",
    "import numpy as np\n",
    "from sklearn.cluster import AffinityPropagation\n",
    "import distance"
   ]
  },
  {
   "attachments": {},
   "cell_type": "markdown",
   "metadata": {},
   "source": [
    "redis connection"
   ]
  },
  {
   "cell_type": "code",
   "execution_count": 336,
   "metadata": {},
   "outputs": [
    {
     "name": "stdout",
     "output_type": "stream",
     "text": [
      "90\n"
     ]
    }
   ],
   "source": [
    "r = redis.Redis(host='redis-12442.c90.us-east-1-3.ec2.cloud.redislabs.com',port=12442,password='RHFgwK2pQ2ibFUqw8zrQBHRzK29lQtDw')\n",
    "keys=r.keys('*') #getting the keys of each convesation\n",
    "print(len(keys))"
   ]
  },
  {
   "attachments": {},
   "cell_type": "markdown",
   "metadata": {},
   "source": [
    "grouping all intents together as a dictionary"
   ]
  },
  {
   "cell_type": "code",
   "execution_count": 337,
   "metadata": {},
   "outputs": [
    {
     "name": "stdout",
     "output_type": "stream",
     "text": [
      "price_details : {'price detaisl', 'i want the item details', '/price_details', 'price details', 'price detaosl'}\n",
      "get_item_prices : {'/get_item_prices', 'item ifno'}\n",
      "get_specific_price : {'/get_specific_price', 'cost of particular item', 'particular item particular location'}\n",
      "item_details : {'100185305', 'loc is 246001', '105', '607', '100035001', 'the number is 100150000', '1000350001', '10035001', 'what is 454 calendar?', 'it is 607', 'what is 4-5-4 calender?', '100140001', '100140000', '246001', 'what is 454 calender in retail?', '100150000', 'give adhipursh review'}\n",
      "location_details : {'location 607', 'location 246001', 'location 105', 'loc is 607', 'price details for location 607', 'loc 607'}\n",
      "hello : {'/hello'}\n",
      "continue_info : {'yes', 'RMS'}\n",
      "get_item_all_locs : {'cost of all items in particular location', '/get_item_all_locs', 'UPC in RMS'}\n",
      "deny : {'no', 'vendor', 'what is vendor', 'i want the trichy weather', '/stop'}\n",
      "greet : {'hey', 'how is the weather in trichy', 'sup', 'adipurush review', 'Oracle', 'what is the adipurush movie review?', 'atmosphere', \"how's the weather like\", 'hi', 'vendor', 'what is atmosphere', 'how is the weather', 'hows the weather like', 'review of adhipurush', \"how's the weather\", 'hai'}\n",
      "user_query : {'/item_details', 'item info', 'item info]'}\n",
      "location_info : {'100150000', 'location 246001', '100035001'}\n",
      "nlu_fallback : {'/action_get_item_prices', 'prime minister of india', 'what is the weather in chennai', 'hows the weather like in chennai', 'president of india', 'list IT companies in chennai', 'list IT companies chennai', 'cheif minister of tamilnadu', 'what is the weather like', '607', 'what is replenishment ?', 'upc oracle', 'what is the weather condition in trichy', 'list states in tamilnadu', 'who is the cheoif minister of tamilnadu', 'UPC in retail', 'how is the climate', 'what is climatic change', 'what is the weather in madurai', 'how is the weather like', 'rasa', 'loc is 607', 'i want the iem details', '100035001', 'how is the climate like', 'what is the climate', 'prime minister of tamilnadu', 'what is UPC', 'UPC', 'who is vendor', 'what is the wetaher like', 'what is RASA', '100150000', 'list states in india'}\n",
      "goodbye : {'UPC', 'upc', 'climate', 'bye'}\n",
      "mood_unhappy : {'am sad', 'im happy'}\n",
      "affirm : {'yes'}\n",
      "others : {'what is the weather like', 'what is the weather in chennai', 'what is the weather in trichy', 'what is the weather', 'hwta is UPC', 'what is RMS', 'who is the cheif minister of tamilnadu', 'what is Stock Ledger in retail domain', 'what is python', '/others'}\n",
      "mood_great : {'amazon', 'what is amazon', \"how's the weather like\"}\n",
      "exit_info : {'no'}\n",
      "bot_challenge : {'are you a bot'}\n",
      "item_info : {'100185305', '105', '100150000', '246001'}\n"
     ]
    }
   ],
   "source": [
    "trackerdata=[]\n",
    "for i in keys: \n",
    "    temp=r[i]\n",
    "    temp = temp.decode(\"utf-8\")\n",
    "    trackerdata.append(json.loads(temp)) #each conversation is saved with its events as a list and trackername\n",
    "conversations=[]\n",
    "for i in trackerdata:\n",
    "    conversations.append(i[\"events\"]) #extracting only the events list of each conversation\n",
    "intents=set()\n",
    "intentdictnew=dict()\n",
    "for conv in conversations:\n",
    "    for i in conv:# extracting the intents from the conversations\n",
    "        if i['event']==\"user\":\n",
    "            if i['parse_data']['intent']['name'] not in intents:\n",
    "                intents.add(i['parse_data']['intent']['name'])\n",
    "                intentdictnew[i['parse_data']['intent']['name']]={i[\"text\"]}\n",
    "            else:\n",
    "                intentdictnew[i['parse_data']['intent']['name']].add(i[\"text\"])\n",
    "for k,v in intentdictnew.items():\n",
    "    print(k,\":\",v)\n",
    "\n"
   ]
  },
  {
   "attachments": {},
   "cell_type": "markdown",
   "metadata": {},
   "source": [
    "DESCRIPTIVE ANALYSIS OF UNRECOGNISED USER INPUTS"
   ]
  },
  {
   "cell_type": "code",
   "execution_count": 326,
   "metadata": {},
   "outputs": [
    {
     "name": "stdout",
     "output_type": "stream",
     "text": [
      "{'/action_get_item_prices', 'prime minister of india', 'what is the weather in chennai', 'hows the weather like in chennai', 'president of india', 'list IT companies in chennai', 'what is python', 'list IT companies chennai', 'cheif minister of tamilnadu', 'what is the weather like', '607', 'what is replenishment ?', 'hwta is UPC', 'what is RMS', 'upc oracle', 'what is the weather condition in trichy', 'list states in tamilnadu', 'who is the cheoif minister of tamilnadu', 'UPC in retail', 'how is the climate', 'what is climatic change', 'what is the weather in madurai', 'how is the weather like', 'rasa', 'loc is 607', 'what is Stock Ledger in retail domain', '/others', 'i want the iem details', '100035001', 'how is the climate like', 'what is the climate', 'what is the weather in trichy', 'prime minister of tamilnadu', 'what is UPC', 'UPC', 'who is vendor', 'what is the wetaher like', 'what is the weather', 'who is the cheif minister of tamilnadu', 'what is RASA', '100150000', 'list states in india'}\n"
     ]
    }
   ],
   "source": [
    "newinputs=intentdictnew[\"nlu_fallback\"] | intentdictnew[\"others\"]\n",
    "print(newinputs)"
   ]
  },
  {
   "attachments": {},
   "cell_type": "markdown",
   "metadata": {},
   "source": [
    "PREPROCESSING THE DATA"
   ]
  },
  {
   "cell_type": "code",
   "execution_count": 327,
   "metadata": {},
   "outputs": [
    {
     "name": "stdout",
     "output_type": "stream",
     "text": [
      "['prime minister of india', 'what is upc', 'what is the weather in chennai', 'list it companies chennai', 'hows the weather like in chennai', 'president of india', 'what is python', 'cheif minister of tamilnadu', 'what is the weather like', '607', 'list it companies in chennai', 'what is replenishment ?', 'upc oracle', 'upc', 'what is the weather condition in trichy', 'list states in tamilnadu', 'who is the cheoif minister of tamilnadu', 'how is the climate', 'upc in retail', 'what is climatic change', 'what is the weather in madurai', 'how is the weather like', 'what is stock ledger in retail domain', 'rasa', 'loc is 607', 'what is rasa', 'i want the iem details', '100035001', 'how is the climate like', 'what is rms', 'what is the climate', 'what is the weather in trichy', 'prime minister of tamilnadu', 'what is the weather', 'who is vendor', 'what is the wetaher like', 'who is the cheif minister of tamilnadu', '100150000', 'list states in india', 'hwta is upc']\n"
     ]
    }
   ],
   "source": [
    "#removing button inputs\n",
    "newinputs2=set()\n",
    "for i in newinputs:\n",
    "    if i[0]!='/':\n",
    "        newinputs2.add(i.lower())\n",
    "newinputs2=list(newinputs2)\n",
    "print(newinputs2)"
   ]
  },
  {
   "cell_type": "code",
   "execution_count": 262,
   "metadata": {},
   "outputs": [],
   "source": [
    "def cleaning_numbers(data):\n",
    "    return re.sub('[0-9]+', '', data)"
   ]
  },
  {
   "cell_type": "code",
   "execution_count": 264,
   "metadata": {},
   "outputs": [],
   "source": [
    "def cleaning_contractions(text):\n",
    "    text=text.split()\n",
    "    corrected=[]\n",
    "    for word in text:\n",
    "        corrected.append(contractions.fix(word))\n",
    "    return \" \".join(corrected)"
   ]
  },
  {
   "cell_type": "code",
   "execution_count": 265,
   "metadata": {},
   "outputs": [],
   "source": [
    "english_punctuations = string.punctuation\n",
    "punctuations_list = english_punctuations\n",
    "def cleaning_punctuations(text):\n",
    "    return re.sub(re.compile(\"[\"+punctuations_list+\"‼️’]\"),\" \",text)"
   ]
  },
  {
   "cell_type": "code",
   "execution_count": 267,
   "metadata": {},
   "outputs": [],
   "source": [
    "#nltk.download('stopwords')\n",
    "stop_words = stopwords.words('english')\n",
    "def cleaning_stopwords(data):\n",
    "    words = data.split()\n",
    "    filtered_words = [word for word in words if word not in stop_words]\n",
    "    filtered_text = ' '.join(filtered_words)\n",
    "    return filtered_text"
   ]
  },
  {
   "cell_type": "code",
   "execution_count": 268,
   "metadata": {},
   "outputs": [],
   "source": [
    "def correct_word_spelling(sentence):\n",
    "    words=sentence.split()\n",
    "    words2=[]\n",
    "    for word in words:\n",
    "        word = Word(word)\n",
    "        words2.append(word.correct())\n",
    "    return(\" \".join(words2))"
   ]
  },
  {
   "cell_type": "code",
   "execution_count": 328,
   "metadata": {},
   "outputs": [],
   "source": [
    "#performing all data cleaning operations\n",
    "\n",
    "cleanedinputs=[]# stores the cleaned data\n",
    "wordmap=dict()\n",
    "for i in newinputs2:\n",
    "    temp=cleaning_numbers(i)\n",
    "    temp=cleaning_contractions(temp)\n",
    "    #temp=correct_word_spelling(temp)\n",
    "    temp=cleaning_punctuations(temp)\n",
    "    temp=cleaning_stopwords(temp)\n",
    "    if temp!=\"\":\n",
    "        cleanedinputs.append(temp)\n",
    "        keys=set(wordmap.keys())\n",
    "        for j in temp.split():\n",
    "            if j not in keys:\n",
    "                wordmap[j]=[i]\n",
    "            else:\n",
    "                wordmap[j].append(i) #mapping the maps to their sentences\n"
   ]
  },
  {
   "attachments": {},
   "cell_type": "markdown",
   "metadata": {},
   "source": [
    "wordmap: a dictionary that maps the word to a set of the sentences it is present in"
   ]
  },
  {
   "cell_type": "code",
   "execution_count": 329,
   "metadata": {},
   "outputs": [
    {
     "name": "stdout",
     "output_type": "stream",
     "text": [
      "prime : ['prime minister of india', 'prime minister of tamilnadu']\n",
      "minister : ['prime minister of india', 'cheif minister of tamilnadu', 'who is the cheoif minister of tamilnadu', 'prime minister of tamilnadu', 'who is the cheif minister of tamilnadu']\n",
      "india : ['prime minister of india', 'president of india', 'list states in india']\n",
      "upc : ['what is upc', 'upc oracle', 'upc', 'upc in retail', 'hwta is upc']\n",
      "weather : ['what is the weather in chennai', 'hows the weather like in chennai', 'what is the weather like', 'what is the weather condition in trichy', 'what is the weather in madurai', 'how is the weather like', 'what is the weather in trichy', 'what is the weather']\n",
      "chennai : ['what is the weather in chennai', 'list it companies chennai', 'hows the weather like in chennai', 'list it companies in chennai']\n",
      "list : ['list it companies chennai', 'list it companies in chennai', 'list states in tamilnadu', 'list states in india']\n",
      "companies : ['list it companies chennai', 'list it companies in chennai']\n",
      "like : ['hows the weather like in chennai', 'what is the weather like', 'how is the weather like', 'how is the climate like', 'what is the wetaher like']\n",
      "president : ['president of india']\n",
      "python : ['what is python']\n",
      "cheif : ['cheif minister of tamilnadu', 'who is the cheif minister of tamilnadu']\n",
      "tamilnadu : ['cheif minister of tamilnadu', 'list states in tamilnadu', 'who is the cheoif minister of tamilnadu', 'prime minister of tamilnadu', 'who is the cheif minister of tamilnadu']\n",
      "replenishment : ['what is replenishment ?']\n",
      "oracle : ['upc oracle']\n",
      "condition : ['what is the weather condition in trichy']\n",
      "trichy : ['what is the weather condition in trichy', 'what is the weather in trichy']\n",
      "states : ['list states in tamilnadu', 'list states in india']\n",
      "cheoif : ['who is the cheoif minister of tamilnadu']\n",
      "climate : ['how is the climate', 'how is the climate like', 'what is the climate']\n",
      "retail : ['upc in retail', 'what is stock ledger in retail domain']\n",
      "climatic : ['what is climatic change']\n",
      "change : ['what is climatic change']\n",
      "madurai : ['what is the weather in madurai']\n",
      "stock : ['what is stock ledger in retail domain']\n",
      "ledger : ['what is stock ledger in retail domain']\n",
      "domain : ['what is stock ledger in retail domain']\n",
      "rasa : ['rasa', 'what is rasa']\n",
      "loc : ['loc is 607']\n",
      "want : ['i want the iem details']\n",
      "iem : ['i want the iem details']\n",
      "details : ['i want the iem details']\n",
      "rms : ['what is rms']\n",
      "vendor : ['who is vendor']\n",
      "wetaher : ['what is the wetaher like']\n",
      "hwta : ['hwta is upc']\n"
     ]
    }
   ],
   "source": [
    "for k,v in wordmap.items():\n",
    "    print(k,\":\",v)"
   ]
  },
  {
   "attachments": {},
   "cell_type": "markdown",
   "metadata": {},
   "source": [
    "wordcount: mapping words to their count "
   ]
  },
  {
   "cell_type": "code",
   "execution_count": 339,
   "metadata": {},
   "outputs": [
    {
     "name": "stdout",
     "output_type": "stream",
     "text": [
      "Counter({'weather': 8, 'minister': 5, 'upc': 5, 'like': 5, 'tamilnadu': 5, 'chennai': 4, 'list': 4, 'india': 3, 'climate': 3, 'prime': 2, 'companies': 2, 'cheif': 2, 'trichy': 2, 'states': 2, 'retail': 2, 'rasa': 2, 'president': 1, 'python': 1, 'replenishment': 1, 'oracle': 1, 'condition': 1, 'cheoif': 1, 'climatic': 1, 'change': 1, 'madurai': 1, 'stock': 1, 'ledger': 1, 'domain': 1, 'loc': 1, 'want': 1, 'iem': 1, 'details': 1, 'rms': 1, 'vendor': 1, 'wetaher': 1, 'hwta': 1})\n"
     ]
    }
   ],
   "source": [
    "words=[]\n",
    "for i in cleanedinputs:\n",
    "    words.extend(i.split())\n",
    "#print(words)\n",
    "wordcount=Counter(words) #counting occurance of each word using counter class\n",
    "print(wordcount)\n",
    "#for k,v in wordcount.items():\n",
    "#    print (k,\":\",v)"
   ]
  },
  {
   "attachments": {},
   "cell_type": "markdown",
   "metadata": {},
   "source": [
    "wordcloud visualisation"
   ]
  },
  {
   "cell_type": "code",
   "execution_count": 340,
   "metadata": {},
   "outputs": [
    {
     "data": {
      "image/png": "[encoded data removed]",
      "text/plain": [
       "<Figure size 400x400 with 1 Axes>"
      ]
     },
     "metadata": {},
     "output_type": "display_data"
    }
   ],
   "source": [
    "comment_words = \" \".join(words)+ \" \"\n",
    "#print(comment_words)\n",
    "wordcloud = WordCloud(width = 300, height = 300,background_color ='black',min_font_size = 10).generate(comment_words)\n",
    "plt.figure(figsize = (4, 4), facecolor = None)\n",
    "plt.imshow(wordcloud)\n",
    "plt.axis(\"off\")\n",
    "plt.tight_layout(pad = 0)\n",
    "plt.show()\n"
   ]
  },
  {
   "attachments": {},
   "cell_type": "markdown",
   "metadata": {},
   "source": [
    "AFFINITY PROPOGATION CLUSTERING using levenshtein distance metric"
   ]
  },
  {
   "cell_type": "code",
   "execution_count": 341,
   "metadata": {},
   "outputs": [
    {
     "name": "stdout",
     "output_type": "stream",
     "text": [
      "prime :\n",
      "\t total_count : 3\n",
      "\t words : ['president', 'prime']\n",
      "\t word count : [1, 2]\n",
      "india :\n",
      "\t total_count : 5\n",
      "\t words : ['india', 'madurai', 'vendor']\n",
      "\t word count : [3, 1, 1]\n",
      "weather :\n",
      "\t total_count : 10\n",
      "\t words : ['python', 'weather', 'wetaher']\n",
      "\t word count : [1, 8, 1]\n",
      "list :\n",
      "\t total_count : 5\n",
      "\t words : ['iem', 'list']\n",
      "\t word count : [1, 4]\n",
      "chennai :\n",
      "\t total_count : 4\n",
      "\t words : ['chennai']\n",
      "\t word count : [4]\n",
      "cheif :\n",
      "\t total_count : 4\n",
      "\t words : ['change', 'cheif', 'cheoif']\n",
      "\t word count : [1, 2, 1]\n",
      "minister :\n",
      "\t total_count : 5\n",
      "\t words : ['minister']\n",
      "\t word count : [5]\n",
      "like :\n",
      "\t total_count : 6\n",
      "\t words : ['ledger', 'like']\n",
      "\t word count : [1, 5]\n",
      "companies :\n",
      "\t total_count : 2\n",
      "\t words : ['companies']\n",
      "\t word count : [2]\n",
      "replenishment :\n",
      "\t total_count : 1\n",
      "\t words : ['replenishment']\n",
      "\t word count : [1]\n",
      "upc :\n",
      "\t total_count : 6\n",
      "\t words : ['loc', 'upc']\n",
      "\t word count : [1, 5]\n",
      "condition :\n",
      "\t total_count : 1\n",
      "\t words : ['condition']\n",
      "\t word count : [1]\n",
      "trichy :\n",
      "\t total_count : 2\n",
      "\t words : ['trichy']\n",
      "\t word count : [2]\n",
      "states :\n",
      "\t total_count : 3\n",
      "\t words : ['states', 'stock']\n",
      "\t word count : [2, 1]\n",
      "tamilnadu :\n",
      "\t total_count : 5\n",
      "\t words : ['tamilnadu']\n",
      "\t word count : [5]\n",
      "retail :\n",
      "\t total_count : 4\n",
      "\t words : ['details', 'domain', 'retail']\n",
      "\t word count : [1, 1, 2]\n",
      "rasa :\n",
      "\t total_count : 6\n",
      "\t words : ['hwta', 'oracle', 'rasa', 'rms', 'want']\n",
      "\t word count : [1, 1, 2, 1, 1]\n",
      "climate :\n",
      "\t total_count : 4\n",
      "\t words : ['climate', 'climatic']\n",
      "\t word count : [3, 1]\n"
     ]
    }
   ],
   "source": [
    "words = np.asarray(words) #So that indexing with a list will work\n",
    "lev_similarity = -1*np.array([[distance.levenshtein(w1,w2) for w1 in words] for w2 in words])\n",
    "\n",
    "affprop = AffinityPropagation(affinity=\"precomputed\")\n",
    "affprop.fit(lev_similarity)\n",
    "\n",
    "clusters=dict()#stores the cluster label and the values\n",
    "\n",
    "for cluster_id in np.unique(affprop.labels_):\n",
    "    exemplar = words[affprop.cluster_centers_indices_[cluster_id]] #the clusterlabel\n",
    "    cluster = np.unique(words[np.nonzero(affprop.labels_==cluster_id)]).tolist() #cluster values\n",
    "    count=[wordcount[i] for i in cluster]\n",
    "    totalcount=sum(count)\n",
    "    d=dict() # creating a dictionary with key as clusterlabel, values as the totalcount,the cluster words and their indivial count\n",
    "    d['total_count']=totalcount\n",
    "    d['words']=cluster\n",
    "    d['word count']=count\n",
    "    clusters[exemplar]=d\n",
    "\n",
    "for k,v in clusters.items():\n",
    "    print(k,\":\")\n",
    "    for k1,v1 in v.items():\n",
    "        print(\"\\t\",k1,\":\",v1)\n",
    "\n",
    "# you can access the sentence the words are present in using wordmap \n",
    "#eg.  wordmap[clusters[\"companies\"][\"words\"][0]]  will give all sentences in which the word companies is present"
   ]
  },
  {
   "attachments": {},
   "cell_type": "markdown",
   "metadata": {},
   "source": [
    "sorting the clusters in descending"
   ]
  },
  {
   "cell_type": "code",
   "execution_count": 345,
   "metadata": {},
   "outputs": [
    {
     "name": "stdout",
     "output_type": "stream",
     "text": [
      "weather :\n",
      "\t total_count : 10\n",
      "\t words : ['python', 'weather', 'wetaher']\n",
      "\t word count : [1, 8, 1]\n",
      "like :\n",
      "\t total_count : 6\n",
      "\t words : ['ledger', 'like']\n",
      "\t word count : [1, 5]\n",
      "upc :\n",
      "\t total_count : 6\n",
      "\t words : ['loc', 'upc']\n",
      "\t word count : [1, 5]\n",
      "rasa :\n",
      "\t total_count : 6\n",
      "\t words : ['hwta', 'oracle', 'rasa', 'rms', 'want']\n",
      "\t word count : [1, 1, 2, 1, 1]\n",
      "india :\n",
      "\t total_count : 5\n",
      "\t words : ['india', 'madurai', 'vendor']\n",
      "\t word count : [3, 1, 1]\n",
      "list :\n",
      "\t total_count : 5\n",
      "\t words : ['iem', 'list']\n",
      "\t word count : [1, 4]\n",
      "minister :\n",
      "\t total_count : 5\n",
      "\t words : ['minister']\n",
      "\t word count : [5]\n",
      "tamilnadu :\n",
      "\t total_count : 5\n",
      "\t words : ['tamilnadu']\n",
      "\t word count : [5]\n",
      "chennai :\n",
      "\t total_count : 4\n",
      "\t words : ['chennai']\n",
      "\t word count : [4]\n",
      "cheif :\n",
      "\t total_count : 4\n",
      "\t words : ['change', 'cheif', 'cheoif']\n",
      "\t word count : [1, 2, 1]\n",
      "retail :\n",
      "\t total_count : 4\n",
      "\t words : ['details', 'domain', 'retail']\n",
      "\t word count : [1, 1, 2]\n",
      "climate :\n",
      "\t total_count : 4\n",
      "\t words : ['climate', 'climatic']\n",
      "\t word count : [3, 1]\n",
      "prime :\n",
      "\t total_count : 3\n",
      "\t words : ['president', 'prime']\n",
      "\t word count : [1, 2]\n",
      "states :\n",
      "\t total_count : 3\n",
      "\t words : ['states', 'stock']\n",
      "\t word count : [2, 1]\n",
      "companies :\n",
      "\t total_count : 2\n",
      "\t words : ['companies']\n",
      "\t word count : [2]\n",
      "trichy :\n",
      "\t total_count : 2\n",
      "\t words : ['trichy']\n",
      "\t word count : [2]\n",
      "replenishment :\n",
      "\t total_count : 1\n",
      "\t words : ['replenishment']\n",
      "\t word count : [1]\n",
      "condition :\n",
      "\t total_count : 1\n",
      "\t words : ['condition']\n",
      "\t word count : [1]\n"
     ]
    }
   ],
   "source": [
    "clusters = sorted(clusters.items(), key=lambda x:x[1][\"total_count\"],reverse=True)\n",
    "clusters=dict(clusters)\n",
    "for k,v in clusters.items():\n",
    "    print(k,\":\")\n",
    "    for k1,v1 in v.items():\n",
    "        print(\"\\t\",k1,\":\",v1)"
   ]
  },
  {
   "attachments": {},
   "cell_type": "markdown",
   "metadata": {},
   "source": [
    "extracting words from the top clusters and their sentences"
   ]
  },
  {
   "cell_type": "code",
   "execution_count": 343,
   "metadata": {},
   "outputs": [
    {
     "name": "stdout",
     "output_type": "stream",
     "text": [
      "['weather', 'like', 'upc', 'rasa', 'india']\n"
     ]
    }
   ],
   "source": [
    "N=5\n",
    "top_cluster_keys=list(clusters.keys())[:N]\n",
    "print(top_cluster_keys)"
   ]
  },
  {
   "cell_type": "code",
   "execution_count": 344,
   "metadata": {},
   "outputs": [
    {
     "name": "stdout",
     "output_type": "stream",
     "text": [
      "weather(10) :\n",
      "\t python(1) :\n",
      "\t\t what is python\n",
      "\t weather(8) :\n",
      "\t\t what is the weather in chennai\n",
      "\t\t hows the weather like in chennai\n",
      "\t\t what is the weather like\n",
      "\t\t what is the weather condition in trichy\n",
      "\t\t what is the weather in madurai\n",
      "\t\t how is the weather like\n",
      "\t\t what is the weather in trichy\n",
      "\t\t what is the weather\n",
      "\t wetaher(1) :\n",
      "\t\t what is the wetaher like\n",
      "like(6) :\n",
      "\t ledger(1) :\n",
      "\t\t what is stock ledger in retail domain\n",
      "\t like(5) :\n",
      "\t\t hows the weather like in chennai\n",
      "\t\t what is the weather like\n",
      "\t\t how is the weather like\n",
      "\t\t how is the climate like\n",
      "\t\t what is the wetaher like\n",
      "upc(6) :\n",
      "\t loc(1) :\n",
      "\t\t loc is 607\n",
      "\t upc(5) :\n",
      "\t\t what is upc\n",
      "\t\t upc oracle\n",
      "\t\t upc\n",
      "\t\t upc in retail\n",
      "\t\t hwta is upc\n",
      "rasa(6) :\n",
      "\t hwta(1) :\n",
      "\t\t hwta is upc\n",
      "\t oracle(1) :\n",
      "\t\t upc oracle\n",
      "\t rasa(2) :\n",
      "\t\t rasa\n",
      "\t\t what is rasa\n",
      "\t rms(1) :\n",
      "\t\t what is rms\n",
      "\t want(1) :\n",
      "\t\t i want the iem details\n",
      "india(5) :\n",
      "\t india(3) :\n",
      "\t\t prime minister of india\n",
      "\t\t president of india\n",
      "\t\t list states in india\n",
      "\t madurai(1) :\n",
      "\t\t what is the weather in madurai\n",
      "\t vendor(1) :\n",
      "\t\t who is vendor\n"
     ]
    }
   ],
   "source": [
    "#using clusters, wordmap and wordcount\n",
    "for i in top_cluster_keys:\n",
    "    words=clusters[i][\"words\"]\n",
    "    tc=clusters[i][\"total_count\"]\n",
    "    print(i+\"(\"+str(tc)+\")\",\":\")\n",
    "    for word in words:\n",
    "        print(\"\\t\",word+\"(\"+str(wordcount[word])+\")\",\":\")\n",
    "        for phrase in wordmap[word]:\n",
    "            print(\"\\t\\t\",phrase)"
   ]
  },
  {
   "attachments": {},
   "cell_type": "markdown",
   "metadata": {},
   "source": [
    "DON'T RUN CODES BELOW"
   ]
  },
  {
   "attachments": {},
   "cell_type": "markdown",
   "metadata": {},
   "source": [
    "https://towardsdatascience.com/clustering-product-names-with-python-part-2-648cc54ca2ac"
   ]
  },
  {
   "cell_type": "code",
   "execution_count": 202,
   "metadata": {},
   "outputs": [],
   "source": [
    "%matplotlib inline\n",
    "import plotly.express as px\n",
    "#Libraries for vectorisation\n",
    "from sklearn.feature_extraction.text import CountVectorizer, TfidfVectorizer\n",
    "\n",
    "#Libraries for clustering\n",
    "from sklearn.cluster import KMeans"
   ]
  },
  {
   "cell_type": "code",
   "execution_count": null,
   "metadata": {},
   "outputs": [],
   "source": [
    "print(cleanedinputs)\n",
    "df=pd.DataFrame(cleanedinputs,columns=[\"user\"])"
   ]
  },
  {
   "cell_type": "code",
   "execution_count": null,
   "metadata": {},
   "outputs": [],
   "source": [
    "print(df)"
   ]
  },
  {
   "cell_type": "code",
   "execution_count": 205,
   "metadata": {},
   "outputs": [],
   "source": [
    "vectorizer_ntf = TfidfVectorizer(analyzer='word',ngram_range=(1,2))\n",
    "X_ntf = vectorizer_ntf.fit_transform(cleanedinputs)\n"
   ]
  },
  {
   "cell_type": "code",
   "execution_count": null,
   "metadata": {},
   "outputs": [],
   "source": [
    "sse={}\n",
    "for k in np.arange(2,12):\n",
    "    kmeans = KMeans(n_clusters=k, max_iter=1000).fit(X_ntf)\n",
    "    sse[k] = kmeans.inertia_\n",
    "plt.plot(list(sse.keys()),list(sse.values()))\n",
    "plt.xlabel('Values for K')\n",
    "plt.ylabel('SSE')\n",
    "plt.show()"
   ]
  },
  {
   "cell_type": "code",
   "execution_count": null,
   "metadata": {},
   "outputs": [],
   "source": [
    "kmeans = KMeans(n_clusters=8)\n",
    "kmeans.fit(X_ntf)\n",
    "result = pd.concat([df,pd.DataFrame(X_ntf.toarray(),columns=vectorizer_ntf.get_feature_names())],axis=1)\n",
    "result['cluster'] = kmeans.predict(X_ntf)\n"
   ]
  },
  {
   "cell_type": "code",
   "execution_count": null,
   "metadata": {},
   "outputs": [],
   "source": [
    "result.head()"
   ]
  },
  {
   "cell_type": "code",
   "execution_count": 209,
   "metadata": {},
   "outputs": [],
   "source": [
    "clusters = result['cluster'].unique()\n",
    "labels = []\n",
    "for i in range(len(clusters)):\n",
    "    subset = result[result['cluster'] == clusters[i]]\n",
    "    words = ' '.join([x for x in np.where(subset.all()!=0,subset.columns,None) if x and x!='user' and x!='cluster' and len(x.split()) == 1])\n",
    "    labels.append(words)\n",
    "labels_table = pd.DataFrame(zip(clusters,labels),columns=['cluster','label'])\n",
    "result_labelled = pd.merge(result,labels_table,on='cluster',how='left')"
   ]
  },
  {
   "cell_type": "code",
   "execution_count": null,
   "metadata": {},
   "outputs": [],
   "source": [
    "result_labelled.head()"
   ]
  },
  {
   "cell_type": "code",
   "execution_count": null,
   "metadata": {},
   "outputs": [],
   "source": [
    "result_summary = pd.pivot_table(result_labelled,index=['label'],values=['user'],aggfunc='count').reset_index().rename(columns={'user':'count'})\n",
    "#result_summary[\"values\"]=[i for i in result_labelled[\"user\"] if result_labelled[\"label\"]==result_summary[\"label\"]]\n",
    "result_treemap = result_summary[(result_summary['label'] != '') & (result_summary['count'] > 1)]\n",
    "fig = px.treemap(result_treemap,path=['label'],values='count')\n",
    "fig.show()"
   ]
  },
  {
   "cell_type": "code",
   "execution_count": null,
   "metadata": {},
   "outputs": [],
   "source": [
    "result_treemap"
   ]
  }
 ],
 "metadata": {
  "kernelspec": {
   "display_name": "base",
   "language": "python",
   "name": "python3"
  },
  "language_info": {
   "codemirror_mode": {
    "name": "ipython",
    "version": 3
   },
   "file_extension": ".py",
   "mimetype": "text/x-python",
   "name": "python",
   "nbconvert_exporter": "python",
   "pygments_lexer": "ipython3",
   "version": "3.9.13"
  },
  "orig_nbformat": 4
 },
 "nbformat": 4,
 "nbformat_minor": 2
}
