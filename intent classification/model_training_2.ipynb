{
 "cells": [
  {
   "attachments": {},
   "cell_type": "markdown",
   "metadata": {},
   "source": [
    "https://www.kaggle.com/datasets/bitext/training-dataset-for-chatbotsvirtual-assistants"
   ]
  },
  {
   "cell_type": "code",
   "execution_count": 1,
   "metadata": {},
   "outputs": [],
   "source": [
    "import pandas as pd\n",
    "from textblob import TextBlob\n",
    "import nltk\n",
    "from textblob import Word\n",
    "from nltk.corpus import stopwords\n",
    "from sklearn.preprocessing import LabelEncoder\n",
    "from sklearn.metrics import classification_report,confusion_matrix,accuracy_score\n",
    "from keras.models import Sequential\n",
    "from keras.preprocessing.text import Tokenizer\n",
    "from tensorflow.keras.preprocessing.sequence import pad_sequences\n",
    "from keras.layers import Dense, Embedding, LSTM, SpatialDropout1D,Conv1D,MaxPooling1D,GlobalMaxPooling1D,Flatten,SimpleRNN\n",
    "from keras import regularizers\n",
    "from sklearn.model_selection import train_test_split \n",
    "from tensorflow.keras.utils import to_categorical\n",
    "from sklearn import preprocessing\n"
   ]
  },
  {
   "cell_type": "code",
   "execution_count": 16,
   "metadata": {},
   "outputs": [
    {
     "data": {
      "text/html": [
       "<div>\n",
       "<style scoped>\n",
       "    .dataframe tbody tr th:only-of-type {\n",
       "        vertical-align: middle;\n",
       "    }\n",
       "\n",
       "    .dataframe tbody tr th {\n",
       "        vertical-align: top;\n",
       "    }\n",
       "\n",
       "    .dataframe thead th {\n",
       "        text-align: right;\n",
       "    }\n",
       "</style>\n",
       "<table border=\"1\" class=\"dataframe\">\n",
       "  <thead>\n",
       "    <tr style=\"text-align: right;\">\n",
       "      <th></th>\n",
       "      <th>utterance</th>\n",
       "      <th>intent</th>\n",
       "    </tr>\n",
       "  </thead>\n",
       "  <tbody>\n",
       "    <tr>\n",
       "      <th>0</th>\n",
       "      <td>I don't have an online account, what do I have...</td>\n",
       "      <td>create_account</td>\n",
       "    </tr>\n",
       "    <tr>\n",
       "      <th>1</th>\n",
       "      <td>can you tell me if i can regisger two accounts...</td>\n",
       "      <td>create_account</td>\n",
       "    </tr>\n",
       "    <tr>\n",
       "      <th>2</th>\n",
       "      <td>I have no online account, open one, please</td>\n",
       "      <td>create_account</td>\n",
       "    </tr>\n",
       "    <tr>\n",
       "      <th>3</th>\n",
       "      <td>could you ask an agent how to open an account,...</td>\n",
       "      <td>create_account</td>\n",
       "    </tr>\n",
       "    <tr>\n",
       "      <th>4</th>\n",
       "      <td>i want an online account, create one</td>\n",
       "      <td>create_account</td>\n",
       "    </tr>\n",
       "    <tr>\n",
       "      <th>...</th>\n",
       "      <td>...</td>\n",
       "      <td>...</td>\n",
       "    </tr>\n",
       "    <tr>\n",
       "      <th>21529</th>\n",
       "      <td>i have no shipping address, what do i have to ...</td>\n",
       "      <td>set_up_shipping_address</td>\n",
       "    </tr>\n",
       "    <tr>\n",
       "      <th>21530</th>\n",
       "      <td>I have no shipping address and I want to set o...</td>\n",
       "      <td>set_up_shipping_address</td>\n",
       "    </tr>\n",
       "    <tr>\n",
       "      <th>21531</th>\n",
       "      <td>i want to set up my shipping address, what do ...</td>\n",
       "      <td>set_up_shipping_address</td>\n",
       "    </tr>\n",
       "    <tr>\n",
       "      <th>21532</th>\n",
       "      <td>I don't have a shipping address, can you set o...</td>\n",
       "      <td>set_up_shipping_address</td>\n",
       "    </tr>\n",
       "    <tr>\n",
       "      <th>21533</th>\n",
       "      <td>i  wanna set up my shipping address</td>\n",
       "      <td>set_up_shipping_address</td>\n",
       "    </tr>\n",
       "  </tbody>\n",
       "</table>\n",
       "<p>21534 rows × 2 columns</p>\n",
       "</div>"
      ],
      "text/plain": [
       "                                               utterance  \\\n",
       "0      I don't have an online account, what do I have...   \n",
       "1      can you tell me if i can regisger two accounts...   \n",
       "2             I have no online account, open one, please   \n",
       "3      could you ask an agent how to open an account,...   \n",
       "4                   i want an online account, create one   \n",
       "...                                                  ...   \n",
       "21529  i have no shipping address, what do i have to ...   \n",
       "21530  I have no shipping address and I want to set o...   \n",
       "21531  i want to set up my shipping address, what do ...   \n",
       "21532  I don't have a shipping address, can you set o...   \n",
       "21533                i  wanna set up my shipping address   \n",
       "\n",
       "                        intent  \n",
       "0               create_account  \n",
       "1               create_account  \n",
       "2               create_account  \n",
       "3               create_account  \n",
       "4               create_account  \n",
       "...                        ...  \n",
       "21529  set_up_shipping_address  \n",
       "21530  set_up_shipping_address  \n",
       "21531  set_up_shipping_address  \n",
       "21532  set_up_shipping_address  \n",
       "21533  set_up_shipping_address  \n",
       "\n",
       "[21534 rows x 2 columns]"
      ]
     },
     "execution_count": 16,
     "metadata": {},
     "output_type": "execute_result"
    }
   ],
   "source": [
    "df=pd.read_csv(\"D:\\\\documents\\\\internship\\\\rasachatbot\\intent classification\\\\20000-Utterances-Training-dataset-for-chatbots-virtual-assistant-Bitext-sample\\\\20000-Utterances-Training-dataset-for-chatbots-virtual-assistant-Bitext-sample\\\\training.csv\")\n",
    "df=df.iloc[:,1::2]\n",
    "df"
   ]
  },
  {
   "cell_type": "code",
   "execution_count": 17,
   "metadata": {},
   "outputs": [],
   "source": [
    "max_words = 5000\n",
    "max_len = 200\n",
    "tokenizer = Tokenizer(num_words=max_words)\n",
    "tokenizer.fit_on_texts(df['utterance'].values)\n",
    "sequences = tokenizer.texts_to_sequences(df['utterance'].values)\n",
    "userinputs = pad_sequences(sequences, maxlen=max_len)"
   ]
  },
  {
   "cell_type": "code",
   "execution_count": 19,
   "metadata": {},
   "outputs": [],
   "source": [
    "df[\"intent\"]=preprocessing.LabelEncoder().fit_transform(df[\"intent\"])\n",
    "xtrain=userinputs\n",
    "ytrain=df[\"intent\"]\n",
    "ytrain = to_categorical(ytrain,30)\n"
   ]
  },
  {
   "cell_type": "code",
   "execution_count": 28,
   "metadata": {},
   "outputs": [
    {
     "data": {
      "text/html": [
       "<div>\n",
       "<style scoped>\n",
       "    .dataframe tbody tr th:only-of-type {\n",
       "        vertical-align: middle;\n",
       "    }\n",
       "\n",
       "    .dataframe tbody tr th {\n",
       "        vertical-align: top;\n",
       "    }\n",
       "\n",
       "    .dataframe thead th {\n",
       "        text-align: right;\n",
       "    }\n",
       "</style>\n",
       "<table border=\"1\" class=\"dataframe\">\n",
       "  <thead>\n",
       "    <tr style=\"text-align: right;\">\n",
       "      <th></th>\n",
       "      <th>utterance</th>\n",
       "      <th>intent</th>\n",
       "    </tr>\n",
       "  </thead>\n",
       "  <tbody>\n",
       "    <tr>\n",
       "      <th>0</th>\n",
       "      <td>I have a question about cancelling an order</td>\n",
       "      <td>cancel_order</td>\n",
       "    </tr>\n",
       "    <tr>\n",
       "      <th>1</th>\n",
       "      <td>help canceling the order I have made</td>\n",
       "      <td>cancel_order</td>\n",
       "    </tr>\n",
       "    <tr>\n",
       "      <th>2</th>\n",
       "      <td>I do not know how to cancel an order I have made</td>\n",
       "      <td>cancel_order</td>\n",
       "    </tr>\n",
       "    <tr>\n",
       "      <th>3</th>\n",
       "      <td>where can I cancel the last order I made?</td>\n",
       "      <td>cancel_order</td>\n",
       "    </tr>\n",
       "    <tr>\n",
       "      <th>4</th>\n",
       "      <td>I don't want the last order I made</td>\n",
       "      <td>cancel_order</td>\n",
       "    </tr>\n",
       "  </tbody>\n",
       "</table>\n",
       "</div>"
      ],
      "text/plain": [
       "                                          utterance        intent\n",
       "0       I have a question about cancelling an order  cancel_order\n",
       "1              help canceling the order I have made  cancel_order\n",
       "2  I do not know how to cancel an order I have made  cancel_order\n",
       "3         where can I cancel the last order I made?  cancel_order\n",
       "4                I don't want the last order I made  cancel_order"
      ]
     },
     "execution_count": 28,
     "metadata": {},
     "output_type": "execute_result"
    }
   ],
   "source": [
    "dftest=pd.read_csv(\"D:\\\\documents\\\\internship\\\\rasachatbot\\\\intent classification\\\\Bitext_Sample_Customer_Service_Testing_Dataset.csv\")\n",
    "dftest=dftest.iloc[:,:2]\n",
    "tokenizer.fit_on_texts(dftest['utterance'].values)\n",
    "sequences = tokenizer.texts_to_sequences(dftest['utterance'].values)\n",
    "userinputstest= pad_sequences(sequences, maxlen=max_len)\n",
    "dftest.head()"
   ]
  },
  {
   "cell_type": "code",
   "execution_count": 26,
   "metadata": {},
   "outputs": [
    {
     "name": "stdout",
     "output_type": "stream",
     "text": [
      "21534 21534\n"
     ]
    }
   ],
   "source": [
    "print(len(df),len(dftest))"
   ]
  },
  {
   "cell_type": "code",
   "execution_count": 29,
   "metadata": {},
   "outputs": [],
   "source": [
    "xtest=userinputstest\n",
    "dftest[\"intent\"]=LabelEncoder().fit_transform(dftest[\"intent\"])\n",
    "ytest=dftest[\"intent\"]\n",
    "ytest = to_categorical(ytest,30)"
   ]
  },
  {
   "cell_type": "code",
   "execution_count": 23,
   "metadata": {},
   "outputs": [],
   "source": [
    "from keras import layers\n",
    "model2 = Sequential()\n",
    "model2.add(layers.Embedding(max_words, 32, input_length=max_len)) \n",
    "model2.add(layers.Bidirectional(layers.LSTM(15,dropout=0.5))) \n",
    "model2.add(layers.Dense(30,activation='softmax'))\n",
    "model2.compile(optimizer='rmsprop',loss='categorical_crossentropy', metrics=['accuracy'])"
   ]
  },
  {
   "cell_type": "code",
   "execution_count": 25,
   "metadata": {},
   "outputs": [
    {
     "name": "stdout",
     "output_type": "stream",
     "text": [
      "Epoch 1/20\n",
      "673/673 [==============================] - 41s 61ms/step - loss: 1.8727 - accuracy: 0.5326\n",
      "Epoch 2/20\n",
      "673/673 [==============================] - 41s 61ms/step - loss: 0.6616 - accuracy: 0.8577\n",
      "Epoch 3/20\n",
      "673/673 [==============================] - 41s 61ms/step - loss: 0.3243 - accuracy: 0.9233\n",
      "Epoch 4/20\n",
      "673/673 [==============================] - 42s 62ms/step - loss: 0.1996 - accuracy: 0.9525\n",
      "Epoch 5/20\n",
      "673/673 [==============================] - 41s 61ms/step - loss: 0.1379 - accuracy: 0.9703\n",
      "Epoch 6/20\n",
      "673/673 [==============================] - 41s 61ms/step - loss: 0.1013 - accuracy: 0.9777\n",
      "Epoch 7/20\n",
      "673/673 [==============================] - 41s 61ms/step - loss: 0.0766 - accuracy: 0.9839\n",
      "Epoch 8/20\n",
      "673/673 [==============================] - 41s 61ms/step - loss: 0.0605 - accuracy: 0.9869\n",
      "Epoch 9/20\n",
      "673/673 [==============================] - 42s 62ms/step - loss: 0.0515 - accuracy: 0.9876\n",
      "Epoch 10/20\n",
      "673/673 [==============================] - 41s 61ms/step - loss: 0.0429 - accuracy: 0.9896\n",
      "Epoch 11/20\n",
      "673/673 [==============================] - 45s 67ms/step - loss: 0.0382 - accuracy: 0.9905\n",
      "Epoch 12/20\n",
      "673/673 [==============================] - 41s 61ms/step - loss: 0.0344 - accuracy: 0.9917\n",
      "Epoch 13/20\n",
      "673/673 [==============================] - 41s 61ms/step - loss: 0.0297 - accuracy: 0.9926\n",
      "Epoch 14/20\n",
      "673/673 [==============================] - 42s 62ms/step - loss: 0.0296 - accuracy: 0.9923\n",
      "Epoch 15/20\n",
      "673/673 [==============================] - 37s 55ms/step - loss: 0.0248 - accuracy: 0.9936\n",
      "Epoch 16/20\n",
      "673/673 [==============================] - 37s 55ms/step - loss: 0.0265 - accuracy: 0.9934\n",
      "Epoch 17/20\n",
      "673/673 [==============================] - 37s 55ms/step - loss: 0.0206 - accuracy: 0.9943\n",
      "Epoch 18/20\n",
      "673/673 [==============================] - 37s 55ms/step - loss: 0.0208 - accuracy: 0.9944\n",
      "Epoch 19/20\n",
      "673/673 [==============================] - 38s 56ms/step - loss: 0.0180 - accuracy: 0.9957\n",
      "Epoch 20/20\n",
      "673/673 [==============================] - 42s 62ms/step - loss: 0.0152 - accuracy: 0.9967\n",
      "673/673 [==============================] - 10s 15ms/step - loss: 0.0054 - accuracy: 0.9985\n"
     ]
    },
    {
     "data": {
      "text/plain": [
       "[0.005426750052720308, 0.9984675645828247]"
      ]
     },
     "execution_count": 25,
     "metadata": {},
     "output_type": "execute_result"
    }
   ],
   "source": [
    "model2.fit(xtrain, ytrain, epochs=20)\n",
    "model2.evaluate(xtest,ytest)"
   ]
  },
  {
   "cell_type": "code",
   "execution_count": 32,
   "metadata": {},
   "outputs": [
    {
     "name": "stdout",
     "output_type": "stream",
     "text": [
      "26/26 [==============================] - 0s 16ms/step - loss: 6.5688 - accuracy: 0.1650\n"
     ]
    },
    {
     "data": {
      "text/plain": [
       "[6.568804740905762, 0.16503667831420898]"
      ]
     },
     "execution_count": 32,
     "metadata": {},
     "output_type": "execute_result"
    }
   ],
   "source": [
    "model2.evaluate(xtest,ytest)"
   ]
  }
 ],
 "metadata": {
  "kernelspec": {
   "display_name": "base",
   "language": "python",
   "name": "python3"
  },
  "language_info": {
   "codemirror_mode": {
    "name": "ipython",
    "version": 3
   },
   "file_extension": ".py",
   "mimetype": "text/x-python",
   "name": "python",
   "nbconvert_exporter": "python",
   "pygments_lexer": "ipython3",
   "version": "3.9.13"
  },
  "orig_nbformat": 4
 },
 "nbformat": 4,
 "nbformat_minor": 2
}
