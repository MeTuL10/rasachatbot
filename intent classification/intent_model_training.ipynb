{
 "cells": [
  {
   "attachments": {},
   "cell_type": "markdown",
   "metadata": {},
   "source": [
    "https://www.kaggle.com/datasets/scodepy/customer-support-intent-dataset"
   ]
  },
  {
   "cell_type": "code",
   "execution_count": 1,
   "metadata": {},
   "outputs": [],
   "source": [
    "import pandas as pd\n",
    "from textblob import TextBlob\n",
    "import nltk\n",
    "from textblob import Word\n",
    "from nltk.corpus import stopwords\n",
    "from sklearn.preprocessing import LabelEncoder\n",
    "from sklearn.metrics import classification_report,confusion_matrix,accuracy_score\n",
    "from keras.models import Sequential\n",
    "from keras.preprocessing.text import Tokenizer\n",
    "from tensorflow.keras.preprocessing.sequence import pad_sequences\n",
    "from keras.layers import Dense, Embedding, LSTM, SpatialDropout1D,Conv1D,MaxPooling1D,GlobalMaxPooling1D,Flatten,SimpleRNN\n",
    "from keras import regularizers\n",
    "from sklearn.model_selection import train_test_split \n",
    "from tensorflow.keras.utils import to_categorical\n",
    "from sklearn import preprocessing\n"
   ]
  },
  {
   "cell_type": "code",
   "execution_count": 20,
   "metadata": {},
   "outputs": [
    {
     "data": {
      "text/html": [
       "<div>\n",
       "<style scoped>\n",
       "    .dataframe tbody tr th:only-of-type {\n",
       "        vertical-align: middle;\n",
       "    }\n",
       "\n",
       "    .dataframe tbody tr th {\n",
       "        vertical-align: top;\n",
       "    }\n",
       "\n",
       "    .dataframe thead th {\n",
       "        text-align: right;\n",
       "    }\n",
       "</style>\n",
       "<table border=\"1\" class=\"dataframe\">\n",
       "  <thead>\n",
       "    <tr style=\"text-align: right;\">\n",
       "      <th></th>\n",
       "      <th>utterance</th>\n",
       "      <th>intent</th>\n",
       "    </tr>\n",
       "  </thead>\n",
       "  <tbody>\n",
       "    <tr>\n",
       "      <th>0</th>\n",
       "      <td>would it be possible to cancel the order I made?</td>\n",
       "      <td>cancel_order</td>\n",
       "    </tr>\n",
       "    <tr>\n",
       "      <th>1</th>\n",
       "      <td>cancelling order</td>\n",
       "      <td>cancel_order</td>\n",
       "    </tr>\n",
       "    <tr>\n",
       "      <th>2</th>\n",
       "      <td>I need assistance canceling the last order I h...</td>\n",
       "      <td>cancel_order</td>\n",
       "    </tr>\n",
       "    <tr>\n",
       "      <th>3</th>\n",
       "      <td>problem with canceling the order I made</td>\n",
       "      <td>cancel_order</td>\n",
       "    </tr>\n",
       "    <tr>\n",
       "      <th>4</th>\n",
       "      <td>I don't know how to cancel the order I made</td>\n",
       "      <td>cancel_order</td>\n",
       "    </tr>\n",
       "    <tr>\n",
       "      <th>...</th>\n",
       "      <td>...</td>\n",
       "      <td>...</td>\n",
       "    </tr>\n",
       "    <tr>\n",
       "      <th>6534</th>\n",
       "      <td>I do not know what I have to do to track the r...</td>\n",
       "      <td>track_refund</td>\n",
       "    </tr>\n",
       "    <tr>\n",
       "      <th>6535</th>\n",
       "      <td>check refund status</td>\n",
       "      <td>track_refund</td>\n",
       "    </tr>\n",
       "    <tr>\n",
       "      <th>6536</th>\n",
       "      <td>help me check the refund status</td>\n",
       "      <td>track_refund</td>\n",
       "    </tr>\n",
       "    <tr>\n",
       "      <th>6537</th>\n",
       "      <td>how can I check if there is any updates on my ...</td>\n",
       "      <td>track_refund</td>\n",
       "    </tr>\n",
       "    <tr>\n",
       "      <th>6538</th>\n",
       "      <td>how do I check if there is anything wrong with...</td>\n",
       "      <td>track_refund</td>\n",
       "    </tr>\n",
       "  </tbody>\n",
       "</table>\n",
       "<p>6539 rows × 2 columns</p>\n",
       "</div>"
      ],
      "text/plain": [
       "                                              utterance        intent\n",
       "0      would it be possible to cancel the order I made?  cancel_order\n",
       "1                                      cancelling order  cancel_order\n",
       "2     I need assistance canceling the last order I h...  cancel_order\n",
       "3               problem with canceling the order I made  cancel_order\n",
       "4           I don't know how to cancel the order I made  cancel_order\n",
       "...                                                 ...           ...\n",
       "6534  I do not know what I have to do to track the r...  track_refund\n",
       "6535                                check refund status  track_refund\n",
       "6536                    help me check the refund status  track_refund\n",
       "6537  how can I check if there is any updates on my ...  track_refund\n",
       "6538  how do I check if there is anything wrong with...  track_refund\n",
       "\n",
       "[6539 rows x 2 columns]"
      ]
     },
     "execution_count": 20,
     "metadata": {},
     "output_type": "execute_result"
    }
   ],
   "source": [
    "df=pd.read_csv(\"D:\\\\documents\\\\internship\\\\rasachatbot\\\\intent classification\\\\Bitext_Sample_Customer_Service_Training_Dataset.csv\")\n",
    "df=df.iloc[:,:2]\n",
    "df"
   ]
  },
  {
   "cell_type": "code",
   "execution_count": 22,
   "metadata": {},
   "outputs": [],
   "source": [
    "max_words = 5000\n",
    "max_len = 200\n",
    "\n",
    "tokenizer = Tokenizer(num_words=max_words)\n",
    "tokenizer.fit_on_texts(df['utterance'].values)\n",
    "sequences = tokenizer.texts_to_sequences(df['utterance'].values)\n",
    "userinputs = pad_sequences(sequences, maxlen=max_len)"
   ]
  },
  {
   "cell_type": "code",
   "execution_count": 23,
   "metadata": {},
   "outputs": [],
   "source": [
    "df[\"intent\"]=preprocessing.LabelEncoder().fit_transform(df[\"intent\"])\n",
    "xtrain=userinputs\n",
    "ytrain=df[\"intent\"]\n",
    "ytrain = to_categorical(ytrain,30)\n"
   ]
  },
  {
   "cell_type": "code",
   "execution_count": 24,
   "metadata": {},
   "outputs": [
    {
     "data": {
      "text/html": [
       "<div>\n",
       "<style scoped>\n",
       "    .dataframe tbody tr th:only-of-type {\n",
       "        vertical-align: middle;\n",
       "    }\n",
       "\n",
       "    .dataframe tbody tr th {\n",
       "        vertical-align: top;\n",
       "    }\n",
       "\n",
       "    .dataframe thead th {\n",
       "        text-align: right;\n",
       "    }\n",
       "</style>\n",
       "<table border=\"1\" class=\"dataframe\">\n",
       "  <thead>\n",
       "    <tr style=\"text-align: right;\">\n",
       "      <th></th>\n",
       "      <th>utterance</th>\n",
       "      <th>intent</th>\n",
       "    </tr>\n",
       "  </thead>\n",
       "  <tbody>\n",
       "    <tr>\n",
       "      <th>0</th>\n",
       "      <td>I have a question about cancelling an order</td>\n",
       "      <td>cancel_order</td>\n",
       "    </tr>\n",
       "    <tr>\n",
       "      <th>1</th>\n",
       "      <td>help canceling the order I have made</td>\n",
       "      <td>cancel_order</td>\n",
       "    </tr>\n",
       "    <tr>\n",
       "      <th>2</th>\n",
       "      <td>I do not know how to cancel an order I have made</td>\n",
       "      <td>cancel_order</td>\n",
       "    </tr>\n",
       "    <tr>\n",
       "      <th>3</th>\n",
       "      <td>where can I cancel the last order I made?</td>\n",
       "      <td>cancel_order</td>\n",
       "    </tr>\n",
       "    <tr>\n",
       "      <th>4</th>\n",
       "      <td>I don't want the last order I made</td>\n",
       "      <td>cancel_order</td>\n",
       "    </tr>\n",
       "  </tbody>\n",
       "</table>\n",
       "</div>"
      ],
      "text/plain": [
       "                                          utterance        intent\n",
       "0       I have a question about cancelling an order  cancel_order\n",
       "1              help canceling the order I have made  cancel_order\n",
       "2  I do not know how to cancel an order I have made  cancel_order\n",
       "3         where can I cancel the last order I made?  cancel_order\n",
       "4                I don't want the last order I made  cancel_order"
      ]
     },
     "execution_count": 24,
     "metadata": {},
     "output_type": "execute_result"
    }
   ],
   "source": [
    "dftest=pd.read_csv(\"D:\\\\documents\\\\internship\\\\rasachatbot\\\\intent classification\\\\Bitext_Sample_Customer_Service_Testing_Dataset.csv\")\n",
    "dftest=dftest.iloc[:,:2]\n",
    "tokenizer.fit_on_texts(dftest['utterance'].values)\n",
    "sequences = tokenizer.texts_to_sequences(dftest['utterance'].values)\n",
    "userinputstest= pad_sequences(sequences, maxlen=max_len)\n",
    "dftest.head()"
   ]
  },
  {
   "cell_type": "code",
   "execution_count": 25,
   "metadata": {},
   "outputs": [],
   "source": [
    "xtest=userinputstest\n",
    "dftest[\"intent\"]=LabelEncoder().fit_transform(dftest[\"intent\"])\n",
    "ytest=dftest[\"intent\"]\n",
    "ytest = to_categorical(ytest,30)"
   ]
  },
  {
   "cell_type": "code",
   "execution_count": 32,
   "metadata": {},
   "outputs": [],
   "source": [
    "from keras import layers\n",
    "model = Sequential()\n",
    "model.add(layers.Embedding(max_words, 64, input_length=max_len)) #The embedding layer\n",
    "model.add(layers.Bidirectional(layers.LSTM(30,dropout=0.5))) #Our LSTM layer\n",
    "model.add(layers.Dense(30,activation='softmax'))\n",
    "model.compile(optimizer='rmsprop',loss='categorical_crossentropy', metrics=['accuracy'])"
   ]
  },
  {
   "cell_type": "code",
   "execution_count": 33,
   "metadata": {},
   "outputs": [
    {
     "name": "stdout",
     "output_type": "stream",
     "text": [
      "Epoch 1/20\n"
     ]
    },
    {
     "name": "stdout",
     "output_type": "stream",
     "text": [
      "205/205 [==============================] - 20s 81ms/step - loss: 2.9687 - accuracy: 0.2536\n",
      "Epoch 2/20\n",
      "205/205 [==============================] - 17s 81ms/step - loss: 1.5556 - accuracy: 0.7454\n",
      "Epoch 3/20\n",
      "205/205 [==============================] - 17s 81ms/step - loss: 0.6847 - accuracy: 0.9049\n",
      "Epoch 4/20\n",
      "205/205 [==============================] - 17s 82ms/step - loss: 0.3214 - accuracy: 0.9550\n",
      "Epoch 5/20\n",
      "205/205 [==============================] - 16s 80ms/step - loss: 0.1691 - accuracy: 0.9775\n",
      "Epoch 6/20\n",
      "205/205 [==============================] - 16s 80ms/step - loss: 0.0979 - accuracy: 0.9864\n",
      "Epoch 7/20\n",
      "205/205 [==============================] - 16s 80ms/step - loss: 0.0646 - accuracy: 0.9881\n",
      "Epoch 8/20\n",
      "205/205 [==============================] - 16s 80ms/step - loss: 0.0520 - accuracy: 0.9896\n",
      "Epoch 9/20\n",
      "205/205 [==============================] - 16s 80ms/step - loss: 0.0392 - accuracy: 0.9917\n",
      "Epoch 10/20\n",
      "205/205 [==============================] - 17s 81ms/step - loss: 0.0320 - accuracy: 0.9930\n",
      "Epoch 11/20\n",
      "205/205 [==============================] - 16s 80ms/step - loss: 0.0278 - accuracy: 0.9937\n",
      "Epoch 12/20\n",
      "205/205 [==============================] - 17s 80ms/step - loss: 0.0241 - accuracy: 0.9933\n",
      "Epoch 13/20\n",
      "205/205 [==============================] - 16s 80ms/step - loss: 0.0198 - accuracy: 0.9946\n",
      "Epoch 14/20\n",
      "205/205 [==============================] - 17s 81ms/step - loss: 0.0184 - accuracy: 0.9946\n",
      "Epoch 15/20\n",
      "205/205 [==============================] - 16s 80ms/step - loss: 0.0173 - accuracy: 0.9953\n",
      "Epoch 16/20\n",
      "205/205 [==============================] - 16s 80ms/step - loss: 0.0138 - accuracy: 0.9963\n",
      "Epoch 17/20\n",
      "205/205 [==============================] - 16s 80ms/step - loss: 0.0119 - accuracy: 0.9976\n",
      "Epoch 18/20\n",
      "205/205 [==============================] - 16s 80ms/step - loss: 0.0103 - accuracy: 0.9976\n",
      "Epoch 19/20\n",
      "205/205 [==============================] - 16s 80ms/step - loss: 0.0091 - accuracy: 0.9971\n",
      "Epoch 20/20\n",
      "205/205 [==============================] - 17s 84ms/step - loss: 0.0088 - accuracy: 0.9977\n",
      "26/26 [==============================] - 2s 28ms/step - loss: 4.9133 - accuracy: 0.2677\n"
     ]
    },
    {
     "data": {
      "text/plain": [
       "[4.91332483291626, 0.2677261531352997]"
      ]
     },
     "execution_count": 33,
     "metadata": {},
     "output_type": "execute_result"
    }
   ],
   "source": [
    "model.fit(xtrain, ytrain, epochs=20)\n",
    "model.evaluate(xtest,ytest)"
   ]
  }
 ],
 "metadata": {
  "kernelspec": {
   "display_name": "base",
   "language": "python",
   "name": "python3"
  },
  "language_info": {
   "codemirror_mode": {
    "name": "ipython",
    "version": 3
   },
   "file_extension": ".py",
   "mimetype": "text/x-python",
   "name": "python",
   "nbconvert_exporter": "python",
   "pygments_lexer": "ipython3",
   "version": "3.9.13"
  },
  "orig_nbformat": 4
 },
 "nbformat": 4,
 "nbformat_minor": 2
}
